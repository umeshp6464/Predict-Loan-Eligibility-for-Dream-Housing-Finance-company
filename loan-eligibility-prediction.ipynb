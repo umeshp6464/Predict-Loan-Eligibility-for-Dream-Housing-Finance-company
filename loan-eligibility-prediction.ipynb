{
 "cells": [
  {
   "cell_type": "markdown",
   "metadata": {
    "papermill": {
     "duration": 0.018733,
     "end_time": "2020-08-30T10:55:59.827632",
     "exception": false,
     "start_time": "2020-08-30T10:55:59.808899",
     "status": "completed"
    },
    "tags": []
   },
   "source": [
    "# Predict Loan Eligibility for Dream Housing Finance company\n"
   ]
  },
  {
   "cell_type": "markdown",
   "metadata": {
    "papermill": {
     "duration": 0.016317,
     "end_time": "2020-08-30T10:55:59.861931",
     "exception": false,
     "start_time": "2020-08-30T10:55:59.845614",
     "status": "completed"
    },
    "tags": []
   },
   "source": [
    "# Importing Libraries"
   ]
  },
  {
   "cell_type": "code",
   "execution_count": 1,
   "metadata": {
    "execution": {
     "iopub.execute_input": "2020-08-30T10:55:59.904847Z",
     "iopub.status.busy": "2020-08-30T10:55:59.903916Z",
     "iopub.status.idle": "2020-08-30T10:56:02.428473Z",
     "shell.execute_reply": "2020-08-30T10:56:02.427694Z"
    },
    "papermill": {
     "duration": 2.550112,
     "end_time": "2020-08-30T10:56:02.428614",
     "exception": false,
     "start_time": "2020-08-30T10:55:59.878502",
     "status": "completed"
    },
    "tags": []
   },
   "outputs": [],
   "source": [
    "import pandas as pd\n",
    "import numpy as np\n",
    "import seaborn as sns\n",
    "import matplotlib.pyplot as plt\n",
    "from sklearn.ensemble import AdaBoostClassifier\n",
    "from sklearn.tree import DecisionTreeClassifier\n",
    "from sklearn.preprocessing import LabelEncoder\n",
    "from sklearn import metrics\n",
    "from sklearn.model_selection import train_test_split\n",
    "from sklearn.metrics import classification_report, confusion_matrix\n",
    "from sklearn.metrics import accuracy_score\n",
    "from sklearn.linear_model import LogisticRegression\n",
    "from sklearn.neighbors import KNeighborsClassifier\n",
    "from sklearn.ensemble import RandomForestClassifier"
   ]
  },
  {
   "cell_type": "code",
   "execution_count": 2,
   "metadata": {
    "execution": {
     "iopub.execute_input": "2020-08-30T10:56:02.469096Z",
     "iopub.status.busy": "2020-08-30T10:56:02.467996Z",
     "iopub.status.idle": "2020-08-30T10:56:02.528566Z",
     "shell.execute_reply": "2020-08-30T10:56:02.527817Z"
    },
    "papermill": {
     "duration": 0.082263,
     "end_time": "2020-08-30T10:56:02.528690",
     "exception": false,
     "start_time": "2020-08-30T10:56:02.446427",
     "status": "completed"
    },
    "tags": []
   },
   "outputs": [
    {
     "data": {
      "text/html": [
       "<div>\n",
       "<style scoped>\n",
       "    .dataframe tbody tr th:only-of-type {\n",
       "        vertical-align: middle;\n",
       "    }\n",
       "\n",
       "    .dataframe tbody tr th {\n",
       "        vertical-align: top;\n",
       "    }\n",
       "\n",
       "    .dataframe thead th {\n",
       "        text-align: right;\n",
       "    }\n",
       "</style>\n",
       "<table border=\"1\" class=\"dataframe\">\n",
       "  <thead>\n",
       "    <tr style=\"text-align: right;\">\n",
       "      <th></th>\n",
       "      <th>Loan_ID</th>\n",
       "      <th>Gender</th>\n",
       "      <th>Married</th>\n",
       "      <th>Dependents</th>\n",
       "      <th>Education</th>\n",
       "      <th>Self_Employed</th>\n",
       "      <th>ApplicantIncome</th>\n",
       "      <th>CoapplicantIncome</th>\n",
       "      <th>LoanAmount</th>\n",
       "      <th>Loan_Amount_Term</th>\n",
       "      <th>Credit_History</th>\n",
       "      <th>Property_Area</th>\n",
       "      <th>Loan_Status</th>\n",
       "    </tr>\n",
       "  </thead>\n",
       "  <tbody>\n",
       "    <tr>\n",
       "      <th>0</th>\n",
       "      <td>LP001002</td>\n",
       "      <td>Male</td>\n",
       "      <td>No</td>\n",
       "      <td>0</td>\n",
       "      <td>Graduate</td>\n",
       "      <td>No</td>\n",
       "      <td>5849</td>\n",
       "      <td>0.0</td>\n",
       "      <td>NaN</td>\n",
       "      <td>360.0</td>\n",
       "      <td>1.0</td>\n",
       "      <td>Urban</td>\n",
       "      <td>Y</td>\n",
       "    </tr>\n",
       "    <tr>\n",
       "      <th>1</th>\n",
       "      <td>LP001003</td>\n",
       "      <td>Male</td>\n",
       "      <td>Yes</td>\n",
       "      <td>1</td>\n",
       "      <td>Graduate</td>\n",
       "      <td>No</td>\n",
       "      <td>4583</td>\n",
       "      <td>1508.0</td>\n",
       "      <td>128.0</td>\n",
       "      <td>360.0</td>\n",
       "      <td>1.0</td>\n",
       "      <td>Rural</td>\n",
       "      <td>N</td>\n",
       "    </tr>\n",
       "    <tr>\n",
       "      <th>2</th>\n",
       "      <td>LP001005</td>\n",
       "      <td>Male</td>\n",
       "      <td>Yes</td>\n",
       "      <td>0</td>\n",
       "      <td>Graduate</td>\n",
       "      <td>Yes</td>\n",
       "      <td>3000</td>\n",
       "      <td>0.0</td>\n",
       "      <td>66.0</td>\n",
       "      <td>360.0</td>\n",
       "      <td>1.0</td>\n",
       "      <td>Urban</td>\n",
       "      <td>Y</td>\n",
       "    </tr>\n",
       "    <tr>\n",
       "      <th>3</th>\n",
       "      <td>LP001006</td>\n",
       "      <td>Male</td>\n",
       "      <td>Yes</td>\n",
       "      <td>0</td>\n",
       "      <td>Not Graduate</td>\n",
       "      <td>No</td>\n",
       "      <td>2583</td>\n",
       "      <td>2358.0</td>\n",
       "      <td>120.0</td>\n",
       "      <td>360.0</td>\n",
       "      <td>1.0</td>\n",
       "      <td>Urban</td>\n",
       "      <td>Y</td>\n",
       "    </tr>\n",
       "    <tr>\n",
       "      <th>4</th>\n",
       "      <td>LP001008</td>\n",
       "      <td>Male</td>\n",
       "      <td>No</td>\n",
       "      <td>0</td>\n",
       "      <td>Graduate</td>\n",
       "      <td>No</td>\n",
       "      <td>6000</td>\n",
       "      <td>0.0</td>\n",
       "      <td>141.0</td>\n",
       "      <td>360.0</td>\n",
       "      <td>1.0</td>\n",
       "      <td>Urban</td>\n",
       "      <td>Y</td>\n",
       "    </tr>\n",
       "  </tbody>\n",
       "</table>\n",
       "</div>"
      ],
      "text/plain": [
       "    Loan_ID Gender Married Dependents     Education Self_Employed  \\\n",
       "0  LP001002   Male      No          0      Graduate            No   \n",
       "1  LP001003   Male     Yes          1      Graduate            No   \n",
       "2  LP001005   Male     Yes          0      Graduate           Yes   \n",
       "3  LP001006   Male     Yes          0  Not Graduate            No   \n",
       "4  LP001008   Male      No          0      Graduate            No   \n",
       "\n",
       "   ApplicantIncome  CoapplicantIncome  LoanAmount  Loan_Amount_Term  \\\n",
       "0             5849                0.0         NaN             360.0   \n",
       "1             4583             1508.0       128.0             360.0   \n",
       "2             3000                0.0        66.0             360.0   \n",
       "3             2583             2358.0       120.0             360.0   \n",
       "4             6000                0.0       141.0             360.0   \n",
       "\n",
       "   Credit_History Property_Area Loan_Status  \n",
       "0             1.0         Urban           Y  \n",
       "1             1.0         Rural           N  \n",
       "2             1.0         Urban           Y  \n",
       "3             1.0         Urban           Y  \n",
       "4             1.0         Urban           Y  "
      ]
     },
     "execution_count": 2,
     "metadata": {},
     "output_type": "execute_result"
    }
   ],
   "source": [
    "train = pd.read_csv(r'C:\\Users\\umesh\\Desktop\\Praxis BS\\Projects\\Loan Prediction\\loan-train.csv')\n",
    "test = pd.read_csv(r'C:\\Users\\umesh\\Desktop\\Praxis BS\\Projects\\Loan Prediction\\loan-test.csv')\n",
    "train.head()"
   ]
  },
  {
   "cell_type": "code",
   "execution_count": 3,
   "metadata": {
    "execution": {
     "iopub.execute_input": "2020-08-30T10:56:02.584989Z",
     "iopub.status.busy": "2020-08-30T10:56:02.583857Z",
     "iopub.status.idle": "2020-08-30T10:56:02.588121Z",
     "shell.execute_reply": "2020-08-30T10:56:02.587543Z"
    },
    "papermill": {
     "duration": 0.041895,
     "end_time": "2020-08-30T10:56:02.588238",
     "exception": false,
     "start_time": "2020-08-30T10:56:02.546343",
     "status": "completed"
    },
    "tags": []
   },
   "outputs": [
    {
     "data": {
      "text/html": [
       "<div>\n",
       "<style scoped>\n",
       "    .dataframe tbody tr th:only-of-type {\n",
       "        vertical-align: middle;\n",
       "    }\n",
       "\n",
       "    .dataframe tbody tr th {\n",
       "        vertical-align: top;\n",
       "    }\n",
       "\n",
       "    .dataframe thead th {\n",
       "        text-align: right;\n",
       "    }\n",
       "</style>\n",
       "<table border=\"1\" class=\"dataframe\">\n",
       "  <thead>\n",
       "    <tr style=\"text-align: right;\">\n",
       "      <th></th>\n",
       "      <th>Loan_ID</th>\n",
       "      <th>Gender</th>\n",
       "      <th>Married</th>\n",
       "      <th>Dependents</th>\n",
       "      <th>Education</th>\n",
       "      <th>Self_Employed</th>\n",
       "      <th>ApplicantIncome</th>\n",
       "      <th>CoapplicantIncome</th>\n",
       "      <th>LoanAmount</th>\n",
       "      <th>Loan_Amount_Term</th>\n",
       "      <th>Credit_History</th>\n",
       "      <th>Property_Area</th>\n",
       "      <th>Loan_Status</th>\n",
       "    </tr>\n",
       "  </thead>\n",
       "  <tbody>\n",
       "    <tr>\n",
       "      <th>0</th>\n",
       "      <td>LP001002</td>\n",
       "      <td>Male</td>\n",
       "      <td>No</td>\n",
       "      <td>0</td>\n",
       "      <td>Graduate</td>\n",
       "      <td>No</td>\n",
       "      <td>5849</td>\n",
       "      <td>0.0</td>\n",
       "      <td>NaN</td>\n",
       "      <td>360.0</td>\n",
       "      <td>1.0</td>\n",
       "      <td>Urban</td>\n",
       "      <td>Y</td>\n",
       "    </tr>\n",
       "    <tr>\n",
       "      <th>1</th>\n",
       "      <td>LP001003</td>\n",
       "      <td>Male</td>\n",
       "      <td>Yes</td>\n",
       "      <td>1</td>\n",
       "      <td>Graduate</td>\n",
       "      <td>No</td>\n",
       "      <td>4583</td>\n",
       "      <td>1508.0</td>\n",
       "      <td>128.0</td>\n",
       "      <td>360.0</td>\n",
       "      <td>1.0</td>\n",
       "      <td>Rural</td>\n",
       "      <td>N</td>\n",
       "    </tr>\n",
       "    <tr>\n",
       "      <th>2</th>\n",
       "      <td>LP001005</td>\n",
       "      <td>Male</td>\n",
       "      <td>Yes</td>\n",
       "      <td>0</td>\n",
       "      <td>Graduate</td>\n",
       "      <td>Yes</td>\n",
       "      <td>3000</td>\n",
       "      <td>0.0</td>\n",
       "      <td>66.0</td>\n",
       "      <td>360.0</td>\n",
       "      <td>1.0</td>\n",
       "      <td>Urban</td>\n",
       "      <td>Y</td>\n",
       "    </tr>\n",
       "    <tr>\n",
       "      <th>3</th>\n",
       "      <td>LP001006</td>\n",
       "      <td>Male</td>\n",
       "      <td>Yes</td>\n",
       "      <td>0</td>\n",
       "      <td>Not Graduate</td>\n",
       "      <td>No</td>\n",
       "      <td>2583</td>\n",
       "      <td>2358.0</td>\n",
       "      <td>120.0</td>\n",
       "      <td>360.0</td>\n",
       "      <td>1.0</td>\n",
       "      <td>Urban</td>\n",
       "      <td>Y</td>\n",
       "    </tr>\n",
       "    <tr>\n",
       "      <th>4</th>\n",
       "      <td>LP001008</td>\n",
       "      <td>Male</td>\n",
       "      <td>No</td>\n",
       "      <td>0</td>\n",
       "      <td>Graduate</td>\n",
       "      <td>No</td>\n",
       "      <td>6000</td>\n",
       "      <td>0.0</td>\n",
       "      <td>141.0</td>\n",
       "      <td>360.0</td>\n",
       "      <td>1.0</td>\n",
       "      <td>Urban</td>\n",
       "      <td>Y</td>\n",
       "    </tr>\n",
       "  </tbody>\n",
       "</table>\n",
       "</div>"
      ],
      "text/plain": [
       "    Loan_ID Gender Married Dependents     Education Self_Employed  \\\n",
       "0  LP001002   Male      No          0      Graduate            No   \n",
       "1  LP001003   Male     Yes          1      Graduate            No   \n",
       "2  LP001005   Male     Yes          0      Graduate           Yes   \n",
       "3  LP001006   Male     Yes          0  Not Graduate            No   \n",
       "4  LP001008   Male      No          0      Graduate            No   \n",
       "\n",
       "   ApplicantIncome  CoapplicantIncome  LoanAmount  Loan_Amount_Term  \\\n",
       "0             5849                0.0         NaN             360.0   \n",
       "1             4583             1508.0       128.0             360.0   \n",
       "2             3000                0.0        66.0             360.0   \n",
       "3             2583             2358.0       120.0             360.0   \n",
       "4             6000                0.0       141.0             360.0   \n",
       "\n",
       "   Credit_History Property_Area Loan_Status  \n",
       "0             1.0         Urban           Y  \n",
       "1             1.0         Rural           N  \n",
       "2             1.0         Urban           Y  \n",
       "3             1.0         Urban           Y  \n",
       "4             1.0         Urban           Y  "
      ]
     },
     "execution_count": 3,
     "metadata": {},
     "output_type": "execute_result"
    }
   ],
   "source": [
    "train.head()"
   ]
  },
  {
   "cell_type": "markdown",
   "metadata": {
    "papermill": {
     "duration": 0.017194,
     "end_time": "2020-08-30T10:56:02.622678",
     "exception": false,
     "start_time": "2020-08-30T10:56:02.605484",
     "status": "completed"
    },
    "tags": []
   },
   "source": [
    "# STEP 1: Data Pre- Processing\n",
    "\n",
    "# a) Finding the Missing Value Features"
   ]
  },
  {
   "cell_type": "code",
   "execution_count": 4,
   "metadata": {
    "execution": {
     "iopub.execute_input": "2020-08-30T10:56:02.677918Z",
     "iopub.status.busy": "2020-08-30T10:56:02.676971Z",
     "iopub.status.idle": "2020-08-30T10:56:02.684065Z",
     "shell.execute_reply": "2020-08-30T10:56:02.683475Z"
    },
    "papermill": {
     "duration": 0.044238,
     "end_time": "2020-08-30T10:56:02.684200",
     "exception": false,
     "start_time": "2020-08-30T10:56:02.639962",
     "status": "completed"
    },
    "tags": []
   },
   "outputs": [
    {
     "name": "stdout",
     "output_type": "stream",
     "text": [
      "Train dataset shape: (614, 14)\n",
      "Test dataset shape: (367, 13)\n",
      "Concatenated dataset shape: (981, 14)\n"
     ]
    }
   ],
   "source": [
    "# Join both the train and test dataset\n",
    "train['source']='train'\n",
    "test['source']='test'\n",
    "\n",
    "dataset = pd.concat([train,test], ignore_index = True)\n",
    "print(\"Train dataset shape:\",train.shape)\n",
    "print(\"Test dataset shape:\",test.shape)\n",
    "print(\"Concatenated dataset shape:\",dataset.shape)"
   ]
  },
  {
   "cell_type": "code",
   "execution_count": 5,
   "metadata": {
    "execution": {
     "iopub.execute_input": "2020-08-30T10:56:02.727374Z",
     "iopub.status.busy": "2020-08-30T10:56:02.726354Z",
     "iopub.status.idle": "2020-08-30T10:56:02.743485Z",
     "shell.execute_reply": "2020-08-30T10:56:02.744051Z"
    },
    "papermill": {
     "duration": 0.042253,
     "end_time": "2020-08-30T10:56:02.744231",
     "exception": false,
     "start_time": "2020-08-30T10:56:02.701978",
     "status": "completed"
    },
    "tags": []
   },
   "outputs": [
    {
     "name": "stdout",
     "output_type": "stream",
     "text": [
      "<class 'pandas.core.frame.DataFrame'>\n",
      "RangeIndex: 981 entries, 0 to 980\n",
      "Data columns (total 14 columns):\n",
      " #   Column             Non-Null Count  Dtype  \n",
      "---  ------             --------------  -----  \n",
      " 0   Loan_ID            981 non-null    object \n",
      " 1   Gender             957 non-null    object \n",
      " 2   Married            978 non-null    object \n",
      " 3   Dependents         956 non-null    object \n",
      " 4   Education          981 non-null    object \n",
      " 5   Self_Employed      926 non-null    object \n",
      " 6   ApplicantIncome    981 non-null    int64  \n",
      " 7   CoapplicantIncome  981 non-null    float64\n",
      " 8   LoanAmount         954 non-null    float64\n",
      " 9   Loan_Amount_Term   961 non-null    float64\n",
      " 10  Credit_History     902 non-null    float64\n",
      " 11  Property_Area      981 non-null    object \n",
      " 12  Loan_Status        614 non-null    object \n",
      " 13  source             981 non-null    object \n",
      "dtypes: float64(4), int64(1), object(9)\n",
      "memory usage: 107.4+ KB\n"
     ]
    }
   ],
   "source": [
    "dataset.info()"
   ]
  },
  {
   "cell_type": "code",
   "execution_count": 6,
   "metadata": {
    "execution": {
     "iopub.execute_input": "2020-08-30T10:56:02.789867Z",
     "iopub.status.busy": "2020-08-30T10:56:02.789148Z",
     "iopub.status.idle": "2020-08-30T10:56:02.792271Z",
     "shell.execute_reply": "2020-08-30T10:56:02.792815Z"
    },
    "papermill": {
     "duration": 0.031303,
     "end_time": "2020-08-30T10:56:02.792979",
     "exception": false,
     "start_time": "2020-08-30T10:56:02.761676",
     "status": "completed"
    },
    "tags": []
   },
   "outputs": [
    {
     "data": {
      "text/plain": [
       "Loan_ID                0\n",
       "Gender                24\n",
       "Married                3\n",
       "Dependents            25\n",
       "Education              0\n",
       "Self_Employed         55\n",
       "ApplicantIncome        0\n",
       "CoapplicantIncome      0\n",
       "LoanAmount            27\n",
       "Loan_Amount_Term      20\n",
       "Credit_History        79\n",
       "Property_Area          0\n",
       "Loan_Status          367\n",
       "source                 0\n",
       "dtype: int64"
      ]
     },
     "execution_count": 6,
     "metadata": {},
     "output_type": "execute_result"
    }
   ],
   "source": [
    "dataset.isnull().sum()"
   ]
  },
  {
   "cell_type": "code",
   "execution_count": 7,
   "metadata": {
    "execution": {
     "iopub.execute_input": "2020-08-30T10:56:02.835010Z",
     "iopub.status.busy": "2020-08-30T10:56:02.833939Z",
     "iopub.status.idle": "2020-08-30T10:56:02.851992Z",
     "shell.execute_reply": "2020-08-30T10:56:02.850965Z"
    },
    "papermill": {
     "duration": 0.041075,
     "end_time": "2020-08-30T10:56:02.852192",
     "exception": false,
     "start_time": "2020-08-30T10:56:02.811117",
     "status": "completed"
    },
    "tags": []
   },
   "outputs": [
    {
     "name": "stdout",
     "output_type": "stream",
     "text": [
      "['Male' 'Female' nan]\n",
      "['No' 'Yes' nan]\n",
      "['0' '1' '2' '3+' nan]\n",
      "['No' 'Yes' nan]\n",
      "[ nan 128.  66. 120. 141. 267.  95. 158. 168. 349.  70. 109. 200. 114.\n",
      "  17. 125. 100.  76. 133. 115. 104. 315. 116. 112. 151. 191. 122. 110.\n",
      "  35. 201.  74. 106. 320. 144. 184.  80.  47.  75. 134.  96.  88.  44.\n",
      " 286.  97. 135. 180.  99. 165. 258. 126. 312. 136. 172.  81. 187. 113.\n",
      " 176. 130. 111. 167. 265.  50. 210. 175. 131. 188.  25. 137. 160. 225.\n",
      " 216.  94. 139. 152. 118. 185. 154.  85. 259. 194.  93. 370. 182. 650.\n",
      " 102. 290.  84. 242. 129.  30. 244. 600. 255.  98. 275. 121.  63. 700.\n",
      "  87. 101. 495.  67.  73. 260. 108.  58.  48. 164. 170.  83.  90. 166.\n",
      " 124.  55.  59. 127. 214. 240.  72.  60. 138.  42. 280. 140. 155. 123.\n",
      " 279. 192. 304. 330. 150. 207. 436.  78.  54.  89. 143. 105. 132. 480.\n",
      "  56. 159. 300. 376. 117.  71. 490. 173.  46. 228. 308. 236. 570. 380.\n",
      " 296. 156. 103.  45.  65.  53. 360.  62. 218. 178. 239. 405. 148. 190.\n",
      " 149. 153. 162. 230.  86. 234. 246. 500. 186. 119. 107. 209. 208. 243.\n",
      "  40. 250. 311. 400. 161. 196. 324. 157. 145. 181.  26. 211.   9. 205.\n",
      "  36.  61. 146. 292. 142. 350. 496. 253. 147.  28.  57.  92. 189. 232.\n",
      " 163. 257.  77. 390. 256. 213. 550. 199.  79. 235. 336. 412. 212.  64.\n",
      " 171.  49. 460. 297. 177.  68. 183. 254. 197.]\n",
      "[360. 120. 240.  nan 180.  60. 300. 480.  36.  84.  12. 350.   6.]\n",
      "[ 1.  0. nan]\n"
     ]
    }
   ],
   "source": [
    "print(dataset['Gender'].unique())\n",
    "print(dataset['Married'].unique())\n",
    "print(dataset['Dependents'].unique())\n",
    "print(dataset['Self_Employed'].unique())\n",
    "print(dataset['LoanAmount'].unique())\n",
    "print(dataset['Loan_Amount_Term'].unique())\n",
    "print(dataset['Credit_History'].unique())"
   ]
  },
  {
   "cell_type": "markdown",
   "metadata": {
    "papermill": {
     "duration": 0.018409,
     "end_time": "2020-08-30T10:56:02.895261",
     "exception": false,
     "start_time": "2020-08-30T10:56:02.876852",
     "status": "completed"
    },
    "tags": []
   },
   "source": [
    "# b) replacing missing data with substituted values\n",
    "<b>Out of the features with missing NaN values, the missing values in 'Loan_Status' are the Values that need to be predicted by our model. Hence, we need not impute the NaN values in Loan_Status column.\n",
    "    \n",
    "1) Missing values in Integer and Float dtype columns are replaced by their median \n",
    "    \n",
    "2) Missing values in Object dtype columns are replaced by their mode</b>"
   ]
  },
  {
   "cell_type": "code",
   "execution_count": 8,
   "metadata": {
    "execution": {
     "iopub.execute_input": "2020-08-30T10:56:02.949068Z",
     "iopub.status.busy": "2020-08-30T10:56:02.948326Z",
     "iopub.status.idle": "2020-08-30T10:56:02.952137Z",
     "shell.execute_reply": "2020-08-30T10:56:02.951571Z"
    },
    "papermill": {
     "duration": 0.038833,
     "end_time": "2020-08-30T10:56:02.952262",
     "exception": false,
     "start_time": "2020-08-30T10:56:02.913429",
     "status": "completed"
    },
    "tags": []
   },
   "outputs": [],
   "source": [
    "dataset['Gender'].fillna(dataset['Gender'].mode()[0], inplace=True)\n",
    "dataset['Married'].fillna(dataset['Married'].mode()[0], inplace=True)\n",
    "dataset['Dependents'].fillna(dataset['Dependents'].mode()[0], inplace=True)\n",
    "dataset['Self_Employed'].fillna(dataset['Self_Employed'].mode()[0], inplace=True)\n",
    "dataset['LoanAmount'].fillna(dataset['LoanAmount'].median(), inplace=True)\n",
    "dataset['Loan_Amount_Term'].fillna(dataset['Loan_Amount_Term'].median(), inplace=True)\n",
    "dataset['Credit_History'].fillna(dataset['Credit_History'].mode()[0], inplace=True)"
   ]
  },
  {
   "cell_type": "code",
   "execution_count": 9,
   "metadata": {
    "execution": {
     "iopub.execute_input": "2020-08-30T10:56:03.001804Z",
     "iopub.status.busy": "2020-08-30T10:56:03.001077Z",
     "iopub.status.idle": "2020-08-30T10:56:03.004039Z",
     "shell.execute_reply": "2020-08-30T10:56:03.004545Z"
    },
    "papermill": {
     "duration": 0.032938,
     "end_time": "2020-08-30T10:56:03.004691",
     "exception": false,
     "start_time": "2020-08-30T10:56:02.971753",
     "status": "completed"
    },
    "tags": []
   },
   "outputs": [
    {
     "data": {
      "text/plain": [
       "Loan_ID                0\n",
       "Gender                 0\n",
       "Married                0\n",
       "Dependents             0\n",
       "Education              0\n",
       "Self_Employed          0\n",
       "ApplicantIncome        0\n",
       "CoapplicantIncome      0\n",
       "LoanAmount             0\n",
       "Loan_Amount_Term       0\n",
       "Credit_History         0\n",
       "Property_Area          0\n",
       "Loan_Status          367\n",
       "source                 0\n",
       "dtype: int64"
      ]
     },
     "execution_count": 9,
     "metadata": {},
     "output_type": "execute_result"
    }
   ],
   "source": [
    "dataset.isnull().sum()"
   ]
  },
  {
   "cell_type": "code",
   "execution_count": 10,
   "metadata": {
    "execution": {
     "iopub.execute_input": "2020-08-30T10:56:03.045485Z",
     "iopub.status.busy": "2020-08-30T10:56:03.044790Z",
     "iopub.status.idle": "2020-08-30T10:56:03.057580Z",
     "shell.execute_reply": "2020-08-30T10:56:03.058254Z"
    },
    "papermill": {
     "duration": 0.035292,
     "end_time": "2020-08-30T10:56:03.058422",
     "exception": false,
     "start_time": "2020-08-30T10:56:03.023130",
     "status": "completed"
    },
    "tags": []
   },
   "outputs": [
    {
     "name": "stdout",
     "output_type": "stream",
     "text": [
      "<class 'pandas.core.frame.DataFrame'>\n",
      "RangeIndex: 981 entries, 0 to 980\n",
      "Data columns (total 14 columns):\n",
      " #   Column             Non-Null Count  Dtype  \n",
      "---  ------             --------------  -----  \n",
      " 0   Loan_ID            981 non-null    object \n",
      " 1   Gender             981 non-null    object \n",
      " 2   Married            981 non-null    object \n",
      " 3   Dependents         981 non-null    object \n",
      " 4   Education          981 non-null    object \n",
      " 5   Self_Employed      981 non-null    object \n",
      " 6   ApplicantIncome    981 non-null    int64  \n",
      " 7   CoapplicantIncome  981 non-null    float64\n",
      " 8   LoanAmount         981 non-null    float64\n",
      " 9   Loan_Amount_Term   981 non-null    float64\n",
      " 10  Credit_History     981 non-null    float64\n",
      " 11  Property_Area      981 non-null    object \n",
      " 12  Loan_Status        614 non-null    object \n",
      " 13  source             981 non-null    object \n",
      "dtypes: float64(4), int64(1), object(9)\n",
      "memory usage: 107.4+ KB\n"
     ]
    }
   ],
   "source": [
    "dataset.info()"
   ]
  },
  {
   "cell_type": "code",
   "execution_count": 11,
   "metadata": {
    "execution": {
     "iopub.execute_input": "2020-08-30T10:56:03.103536Z",
     "iopub.status.busy": "2020-08-30T10:56:03.102478Z",
     "iopub.status.idle": "2020-08-30T10:56:03.119245Z",
     "shell.execute_reply": "2020-08-30T10:56:03.119861Z"
    },
    "papermill": {
     "duration": 0.042507,
     "end_time": "2020-08-30T10:56:03.120018",
     "exception": false,
     "start_time": "2020-08-30T10:56:03.077511",
     "status": "completed"
    },
    "tags": []
   },
   "outputs": [
    {
     "name": "stdout",
     "output_type": "stream",
     "text": [
      "2\n",
      "2\n",
      "4\n",
      "2\n",
      "232\n",
      "12\n",
      "2\n",
      "981\n",
      "2\n",
      "752\n",
      "437\n",
      "3\n",
      "2\n"
     ]
    }
   ],
   "source": [
    "print(len(dataset['Gender'].unique()))\n",
    "print(len(dataset['Married'].unique()))\n",
    "print(len(dataset['Dependents'].unique()))\n",
    "print(len(dataset['Self_Employed'].unique()))\n",
    "print(len(dataset['LoanAmount'].unique()))\n",
    "print(len(dataset['Loan_Amount_Term'].unique()))\n",
    "print(len(dataset['Credit_History'].unique()))\n",
    "print(len(dataset['Loan_ID'].unique()))\n",
    "print(len(dataset['Education'].unique()))\n",
    "print(len(dataset['ApplicantIncome'].unique()))\n",
    "print(len(dataset['CoapplicantIncome'].unique()))\n",
    "print(len(dataset['Property_Area'].unique()))\n",
    "print(len(dataset['source'].unique()))"
   ]
  },
  {
   "cell_type": "markdown",
   "metadata": {
    "papermill": {
     "duration": 0.018052,
     "end_time": "2020-08-30T10:56:03.157669",
     "exception": false,
     "start_time": "2020-08-30T10:56:03.139617",
     "status": "completed"
    },
    "tags": []
   },
   "source": [
    "# Spliting the train and test set again after replacing all missing values"
   ]
  },
  {
   "cell_type": "code",
   "execution_count": 12,
   "metadata": {
    "execution": {
     "iopub.execute_input": "2020-08-30T10:56:03.199404Z",
     "iopub.status.busy": "2020-08-30T10:56:03.198361Z",
     "iopub.status.idle": "2020-08-30T10:56:03.221946Z",
     "shell.execute_reply": "2020-08-30T10:56:03.220685Z"
    },
    "papermill": {
     "duration": 0.045852,
     "end_time": "2020-08-30T10:56:03.222109",
     "exception": false,
     "start_time": "2020-08-30T10:56:03.176257",
     "status": "completed"
    },
    "tags": []
   },
   "outputs": [
    {
     "name": "stderr",
     "output_type": "stream",
     "text": [
      "C:\\Users\\umesh\\anaconda3\\lib\\site-packages\\pandas\\core\\frame.py:4163: SettingWithCopyWarning: \n",
      "A value is trying to be set on a copy of a slice from a DataFrame\n",
      "\n",
      "See the caveats in the documentation: https://pandas.pydata.org/pandas-docs/stable/user_guide/indexing.html#returning-a-view-versus-a-copy\n",
      "  return super().drop(\n"
     ]
    }
   ],
   "source": [
    "#Divide into test and train:\n",
    "train = dataset.loc[dataset['source']==\"train\"]\n",
    "test = dataset.loc[dataset['source']==\"test\"]\n",
    "#Drop unnecessary columns:\n",
    "test.drop(['source'],axis=1,inplace=True)\n",
    "train.drop(['source'],axis=1,inplace=True)"
   ]
  },
  {
   "cell_type": "code",
   "execution_count": 13,
   "metadata": {
    "execution": {
     "iopub.execute_input": "2020-08-30T10:56:03.283387Z",
     "iopub.status.busy": "2020-08-30T10:56:03.282335Z",
     "iopub.status.idle": "2020-08-30T10:56:03.292662Z",
     "shell.execute_reply": "2020-08-30T10:56:03.293584Z"
    },
    "papermill": {
     "duration": 0.05145,
     "end_time": "2020-08-30T10:56:03.293803",
     "exception": false,
     "start_time": "2020-08-30T10:56:03.242353",
     "status": "completed"
    },
    "tags": []
   },
   "outputs": [
    {
     "data": {
      "text/html": [
       "<div>\n",
       "<style scoped>\n",
       "    .dataframe tbody tr th:only-of-type {\n",
       "        vertical-align: middle;\n",
       "    }\n",
       "\n",
       "    .dataframe tbody tr th {\n",
       "        vertical-align: top;\n",
       "    }\n",
       "\n",
       "    .dataframe thead th {\n",
       "        text-align: right;\n",
       "    }\n",
       "</style>\n",
       "<table border=\"1\" class=\"dataframe\">\n",
       "  <thead>\n",
       "    <tr style=\"text-align: right;\">\n",
       "      <th></th>\n",
       "      <th>Loan_ID</th>\n",
       "      <th>Gender</th>\n",
       "      <th>Married</th>\n",
       "      <th>Dependents</th>\n",
       "      <th>Education</th>\n",
       "      <th>Self_Employed</th>\n",
       "      <th>ApplicantIncome</th>\n",
       "      <th>CoapplicantIncome</th>\n",
       "      <th>LoanAmount</th>\n",
       "      <th>Loan_Amount_Term</th>\n",
       "      <th>Credit_History</th>\n",
       "      <th>Property_Area</th>\n",
       "      <th>Loan_Status</th>\n",
       "    </tr>\n",
       "  </thead>\n",
       "  <tbody>\n",
       "    <tr>\n",
       "      <th>0</th>\n",
       "      <td>LP001002</td>\n",
       "      <td>Male</td>\n",
       "      <td>No</td>\n",
       "      <td>0</td>\n",
       "      <td>Graduate</td>\n",
       "      <td>No</td>\n",
       "      <td>5849</td>\n",
       "      <td>0.0</td>\n",
       "      <td>126.0</td>\n",
       "      <td>360.0</td>\n",
       "      <td>1.0</td>\n",
       "      <td>Urban</td>\n",
       "      <td>Y</td>\n",
       "    </tr>\n",
       "    <tr>\n",
       "      <th>1</th>\n",
       "      <td>LP001003</td>\n",
       "      <td>Male</td>\n",
       "      <td>Yes</td>\n",
       "      <td>1</td>\n",
       "      <td>Graduate</td>\n",
       "      <td>No</td>\n",
       "      <td>4583</td>\n",
       "      <td>1508.0</td>\n",
       "      <td>128.0</td>\n",
       "      <td>360.0</td>\n",
       "      <td>1.0</td>\n",
       "      <td>Rural</td>\n",
       "      <td>N</td>\n",
       "    </tr>\n",
       "    <tr>\n",
       "      <th>2</th>\n",
       "      <td>LP001005</td>\n",
       "      <td>Male</td>\n",
       "      <td>Yes</td>\n",
       "      <td>0</td>\n",
       "      <td>Graduate</td>\n",
       "      <td>Yes</td>\n",
       "      <td>3000</td>\n",
       "      <td>0.0</td>\n",
       "      <td>66.0</td>\n",
       "      <td>360.0</td>\n",
       "      <td>1.0</td>\n",
       "      <td>Urban</td>\n",
       "      <td>Y</td>\n",
       "    </tr>\n",
       "    <tr>\n",
       "      <th>3</th>\n",
       "      <td>LP001006</td>\n",
       "      <td>Male</td>\n",
       "      <td>Yes</td>\n",
       "      <td>0</td>\n",
       "      <td>Not Graduate</td>\n",
       "      <td>No</td>\n",
       "      <td>2583</td>\n",
       "      <td>2358.0</td>\n",
       "      <td>120.0</td>\n",
       "      <td>360.0</td>\n",
       "      <td>1.0</td>\n",
       "      <td>Urban</td>\n",
       "      <td>Y</td>\n",
       "    </tr>\n",
       "    <tr>\n",
       "      <th>4</th>\n",
       "      <td>LP001008</td>\n",
       "      <td>Male</td>\n",
       "      <td>No</td>\n",
       "      <td>0</td>\n",
       "      <td>Graduate</td>\n",
       "      <td>No</td>\n",
       "      <td>6000</td>\n",
       "      <td>0.0</td>\n",
       "      <td>141.0</td>\n",
       "      <td>360.0</td>\n",
       "      <td>1.0</td>\n",
       "      <td>Urban</td>\n",
       "      <td>Y</td>\n",
       "    </tr>\n",
       "  </tbody>\n",
       "</table>\n",
       "</div>"
      ],
      "text/plain": [
       "    Loan_ID Gender Married Dependents     Education Self_Employed  \\\n",
       "0  LP001002   Male      No          0      Graduate            No   \n",
       "1  LP001003   Male     Yes          1      Graduate            No   \n",
       "2  LP001005   Male     Yes          0      Graduate           Yes   \n",
       "3  LP001006   Male     Yes          0  Not Graduate            No   \n",
       "4  LP001008   Male      No          0      Graduate            No   \n",
       "\n",
       "   ApplicantIncome  CoapplicantIncome  LoanAmount  Loan_Amount_Term  \\\n",
       "0             5849                0.0       126.0             360.0   \n",
       "1             4583             1508.0       128.0             360.0   \n",
       "2             3000                0.0        66.0             360.0   \n",
       "3             2583             2358.0       120.0             360.0   \n",
       "4             6000                0.0       141.0             360.0   \n",
       "\n",
       "   Credit_History Property_Area Loan_Status  \n",
       "0             1.0         Urban           Y  \n",
       "1             1.0         Rural           N  \n",
       "2             1.0         Urban           Y  \n",
       "3             1.0         Urban           Y  \n",
       "4             1.0         Urban           Y  "
      ]
     },
     "execution_count": 13,
     "metadata": {},
     "output_type": "execute_result"
    }
   ],
   "source": [
    "train.head()"
   ]
  },
  {
   "cell_type": "markdown",
   "metadata": {
    "papermill": {
     "duration": 0.026289,
     "end_time": "2020-08-30T10:56:03.345632",
     "exception": false,
     "start_time": "2020-08-30T10:56:03.319343",
     "status": "completed"
    },
    "tags": []
   },
   "source": [
    "# Step 2: Data Visualization\n",
    "\n",
    "\n",
    "<b> Visualizing Loan_Status </b>"
   ]
  },
  {
   "cell_type": "code",
   "execution_count": 14,
   "metadata": {
    "execution": {
     "iopub.execute_input": "2020-08-30T10:56:03.403420Z",
     "iopub.status.busy": "2020-08-30T10:56:03.402659Z",
     "iopub.status.idle": "2020-08-30T10:56:03.646198Z",
     "shell.execute_reply": "2020-08-30T10:56:03.646750Z"
    },
    "papermill": {
     "duration": 0.276703,
     "end_time": "2020-08-30T10:56:03.646933",
     "exception": false,
     "start_time": "2020-08-30T10:56:03.370230",
     "status": "completed"
    },
    "tags": []
   },
   "outputs": [
    {
     "data": {
      "text/plain": [
       "<AxesSubplot:title={'center':'Loan Status Bar Plot'}, xlabel='Loan Status Y - Yes or N- No', ylabel='Loan Status Count'>"
      ]
     },
     "execution_count": 14,
     "metadata": {},
     "output_type": "execute_result"
    },
    {
     "data": {
      "image/png": "[encoded data removed]",
      "text/plain": [
       "<Figure size 432x288 with 1 Axes>"
      ]
     },
     "metadata": {
      "needs_background": "light"
     },
     "output_type": "display_data"
    }
   ],
   "source": [
    "plt.title('Loan Status Bar Plot')\n",
    "plt.xlabel('Loan Status Y - Yes or N- No')\n",
    "plt.ylabel('Loan Status Count')\n",
    "\n",
    "train['Loan_Status'].value_counts().plot.bar(color=['green', 'red'],edgecolor='blue')"
   ]
  },
  {
   "cell_type": "markdown",
   "metadata": {
    "papermill": {
     "duration": 0.021153,
     "end_time": "2020-08-30T10:56:03.689119",
     "exception": false,
     "start_time": "2020-08-30T10:56:03.667966",
     "status": "completed"
    },
    "tags": []
   },
   "source": [
    "<b> Study of categorical features like Gender, Married, Self_Employed and Credit_History </b>"
   ]
  },
  {
   "cell_type": "code",
   "execution_count": 15,
   "metadata": {
    "execution": {
     "iopub.execute_input": "2020-08-30T10:56:03.742218Z",
     "iopub.status.busy": "2020-08-30T10:56:03.738011Z",
     "iopub.status.idle": "2020-08-30T10:56:04.240250Z",
     "shell.execute_reply": "2020-08-30T10:56:04.239623Z"
    },
    "papermill": {
     "duration": 0.531242,
     "end_time": "2020-08-30T10:56:04.240365",
     "exception": false,
     "start_time": "2020-08-30T10:56:03.709123",
     "status": "completed"
    },
    "tags": []
   },
   "outputs": [
    {
     "data": {
      "text/plain": [
       "<AxesSubplot:title={'center':'Credit History'}>"
      ]
     },
     "execution_count": 15,
     "metadata": {},
     "output_type": "execute_result"
    },
    {
     "data": {
      "image/png": "[encoded data removed]",
      "text/plain": [
       "<Figure size 1440x720 with 4 Axes>"
      ]
     },
     "metadata": {
      "needs_background": "light"
     },
     "output_type": "display_data"
    }
   ],
   "source": [
    "plt.figure(figsize=(20,10))\n",
    "plt.subplot(2,2,1)\n",
    "train['Gender'].value_counts(normalize=True).plot.bar(title='Gender')\n",
    "plt.subplot(2,2,2)\n",
    "train['Married'].value_counts(normalize=True).plot.bar(title='Married')\n",
    "plt.subplot(2,2,3)\n",
    "train['Self_Employed'].value_counts(normalize=True).plot.bar(title='Self Employed')\n",
    "plt.subplot(2,2,4)\n",
    "train['Credit_History'].value_counts(normalize=True).plot.bar(title='Credit History')"
   ]
  },
  {
   "cell_type": "markdown",
   "metadata": {
    "papermill": {
     "duration": 0.020181,
     "end_time": "2020-08-30T10:56:04.280790",
     "exception": false,
     "start_time": "2020-08-30T10:56:04.260609",
     "status": "completed"
    },
    "tags": []
   },
   "source": [
    "<b> Categorical Independent Variable vs Target Variable </b>"
   ]
  },
  {
   "cell_type": "code",
   "execution_count": 16,
   "metadata": {
    "execution": {
     "iopub.execute_input": "2020-08-30T10:56:04.346424Z",
     "iopub.status.busy": "2020-08-30T10:56:04.333492Z",
     "iopub.status.idle": "2020-08-30T10:56:05.517068Z",
     "shell.execute_reply": "2020-08-30T10:56:05.517573Z"
    },
    "papermill": {
     "duration": 1.217493,
     "end_time": "2020-08-30T10:56:05.517756",
     "exception": false,
     "start_time": "2020-08-30T10:56:04.300263",
     "status": "completed"
    },
    "tags": []
   },
   "outputs": [
    {
     "data": {
      "text/plain": [
       "<AxesSubplot:xlabel='Property_Area'>"
      ]
     },
     "execution_count": 16,
     "metadata": {},
     "output_type": "execute_result"
    },
    {
     "data": {
      "image/png": "[encoded data removed]",
      "text/plain": [
       "<Figure size 1080x1080 with 8 Axes>"
      ]
     },
     "metadata": {
      "needs_background": "light"
     },
     "output_type": "display_data"
    }
   ],
   "source": [
    "fig, ax = plt.subplots(2,4,figsize = (15,15))\n",
    "Gender = pd.crosstab(train['Gender'],train['Loan_Status'])\n",
    "Gender.div(Gender.sum(1).astype(float), axis=0).plot(kind=\"bar\", stacked=True, ax=ax[0,0])\n",
    "\n",
    "Married = pd.crosstab(train['Married'],train['Loan_Status'])\n",
    "Married.div(Married.sum(1).astype(float),axis=0).plot(kind='bar',stacked=True, ax=ax[0,1])\n",
    "\n",
    "Dependents = pd.crosstab(train['Dependents'],train['Loan_Status'])\n",
    "Dependents.div(Dependents.sum(1).astype(float),axis=0).plot(kind='bar',stacked=True, ax=ax[0,2])\n",
    "\n",
    "Education = pd.crosstab(train['Education'],train['Loan_Status'])\n",
    "Education.div(Education.sum(1).astype(float),axis=0).plot(kind='bar',stacked=True,ax=ax[0,3])\n",
    "\n",
    "Self_Employed = pd.crosstab(train['Self_Employed'],train['Loan_Status'])\n",
    "Self_Employed.div(Self_Employed.sum(1).astype(float),axis=0).plot(kind='bar',stacked=True, ax=ax[1,0])\n",
    "\n",
    "Credit_History = pd.crosstab(train['Credit_History'],train['Loan_Status'])\n",
    "Credit_History.div(Credit_History.sum(1).astype(float),axis=0).plot(kind='bar',stacked=True, ax=ax[1,1])\n",
    "\n",
    "Property_Area = pd.crosstab(train['Property_Area'],train['Loan_Status'])\n",
    "Property_Area.div(Property_Area.sum(1).astype(float),axis=0).plot(kind='bar',stacked=True,ax=ax[1,2])"
   ]
  },
  {
   "cell_type": "markdown",
   "metadata": {
    "papermill": {
     "duration": 0.020851,
     "end_time": "2020-08-30T10:56:05.559344",
     "exception": false,
     "start_time": "2020-08-30T10:56:05.538493",
     "status": "completed"
    },
    "tags": []
   },
   "source": [
    "# STEP 3 : Converting the categorical data into numerical data appropriately\n",
    "<b> scikit-learn only accepts numerical variables. Hence, we need to convert all categorical variables into numeric types.\n",
    "\n",
    "\n",
    "I am not using LabelEncoder() because this method proved to give very less Accuracy when compared to get_dummies() method</b>"
   ]
  },
  {
   "cell_type": "code",
   "execution_count": 17,
   "metadata": {
    "execution": {
     "iopub.execute_input": "2020-08-30T10:56:05.605539Z",
     "iopub.status.busy": "2020-08-30T10:56:05.604675Z",
     "iopub.status.idle": "2020-08-30T10:56:05.607828Z",
     "shell.execute_reply": "2020-08-30T10:56:05.608865Z"
    },
    "papermill": {
     "duration": 0.02765,
     "end_time": "2020-08-30T10:56:05.609021",
     "exception": false,
     "start_time": "2020-08-30T10:56:05.581371",
     "status": "completed"
    },
    "tags": []
   },
   "outputs": [],
   "source": [
    "#cols=['Loan_ID', 'Gender', 'Married', 'Dependents', 'Education','Self_Employed','Property_Area']\n",
    "#for label in cols:\n",
    "#    dataset[label]=LabelEncoder().fit_transform(dataset[label])\n",
    "#dataset.head()"
   ]
  },
  {
   "cell_type": "code",
   "execution_count": 18,
   "metadata": {
    "execution": {
     "iopub.execute_input": "2020-08-30T10:56:05.663093Z",
     "iopub.status.busy": "2020-08-30T10:56:05.661868Z",
     "iopub.status.idle": "2020-08-30T10:56:05.684226Z",
     "shell.execute_reply": "2020-08-30T10:56:05.684758Z"
    },
    "papermill": {
     "duration": 0.055606,
     "end_time": "2020-08-30T10:56:05.684906",
     "exception": false,
     "start_time": "2020-08-30T10:56:05.629300",
     "status": "completed"
    },
    "tags": []
   },
   "outputs": [
    {
     "data": {
      "text/html": [
       "<div>\n",
       "<style scoped>\n",
       "    .dataframe tbody tr th:only-of-type {\n",
       "        vertical-align: middle;\n",
       "    }\n",
       "\n",
       "    .dataframe tbody tr th {\n",
       "        vertical-align: top;\n",
       "    }\n",
       "\n",
       "    .dataframe thead th {\n",
       "        text-align: right;\n",
       "    }\n",
       "</style>\n",
       "<table border=\"1\" class=\"dataframe\">\n",
       "  <thead>\n",
       "    <tr style=\"text-align: right;\">\n",
       "      <th></th>\n",
       "      <th>ApplicantIncome</th>\n",
       "      <th>CoapplicantIncome</th>\n",
       "      <th>LoanAmount</th>\n",
       "      <th>Loan_Amount_Term</th>\n",
       "      <th>Credit_History</th>\n",
       "      <th>Gender_Male</th>\n",
       "      <th>Married_Yes</th>\n",
       "      <th>Dependents_1</th>\n",
       "      <th>Dependents_2</th>\n",
       "      <th>Dependents_3+</th>\n",
       "      <th>Education_Not Graduate</th>\n",
       "      <th>Self_Employed_Yes</th>\n",
       "      <th>Property_Area_Semiurban</th>\n",
       "      <th>Property_Area_Urban</th>\n",
       "    </tr>\n",
       "  </thead>\n",
       "  <tbody>\n",
       "    <tr>\n",
       "      <th>0</th>\n",
       "      <td>5849</td>\n",
       "      <td>0.0</td>\n",
       "      <td>126.0</td>\n",
       "      <td>360.0</td>\n",
       "      <td>1.0</td>\n",
       "      <td>1</td>\n",
       "      <td>0</td>\n",
       "      <td>0</td>\n",
       "      <td>0</td>\n",
       "      <td>0</td>\n",
       "      <td>0</td>\n",
       "      <td>0</td>\n",
       "      <td>0</td>\n",
       "      <td>1</td>\n",
       "    </tr>\n",
       "    <tr>\n",
       "      <th>1</th>\n",
       "      <td>4583</td>\n",
       "      <td>1508.0</td>\n",
       "      <td>128.0</td>\n",
       "      <td>360.0</td>\n",
       "      <td>1.0</td>\n",
       "      <td>1</td>\n",
       "      <td>1</td>\n",
       "      <td>1</td>\n",
       "      <td>0</td>\n",
       "      <td>0</td>\n",
       "      <td>0</td>\n",
       "      <td>0</td>\n",
       "      <td>0</td>\n",
       "      <td>0</td>\n",
       "    </tr>\n",
       "    <tr>\n",
       "      <th>2</th>\n",
       "      <td>3000</td>\n",
       "      <td>0.0</td>\n",
       "      <td>66.0</td>\n",
       "      <td>360.0</td>\n",
       "      <td>1.0</td>\n",
       "      <td>1</td>\n",
       "      <td>1</td>\n",
       "      <td>0</td>\n",
       "      <td>0</td>\n",
       "      <td>0</td>\n",
       "      <td>0</td>\n",
       "      <td>1</td>\n",
       "      <td>0</td>\n",
       "      <td>1</td>\n",
       "    </tr>\n",
       "    <tr>\n",
       "      <th>3</th>\n",
       "      <td>2583</td>\n",
       "      <td>2358.0</td>\n",
       "      <td>120.0</td>\n",
       "      <td>360.0</td>\n",
       "      <td>1.0</td>\n",
       "      <td>1</td>\n",
       "      <td>1</td>\n",
       "      <td>0</td>\n",
       "      <td>0</td>\n",
       "      <td>0</td>\n",
       "      <td>1</td>\n",
       "      <td>0</td>\n",
       "      <td>0</td>\n",
       "      <td>1</td>\n",
       "    </tr>\n",
       "    <tr>\n",
       "      <th>4</th>\n",
       "      <td>6000</td>\n",
       "      <td>0.0</td>\n",
       "      <td>141.0</td>\n",
       "      <td>360.0</td>\n",
       "      <td>1.0</td>\n",
       "      <td>1</td>\n",
       "      <td>0</td>\n",
       "      <td>0</td>\n",
       "      <td>0</td>\n",
       "      <td>0</td>\n",
       "      <td>0</td>\n",
       "      <td>0</td>\n",
       "      <td>0</td>\n",
       "      <td>1</td>\n",
       "    </tr>\n",
       "  </tbody>\n",
       "</table>\n",
       "</div>"
      ],
      "text/plain": [
       "   ApplicantIncome  CoapplicantIncome  LoanAmount  Loan_Amount_Term  \\\n",
       "0             5849                0.0       126.0             360.0   \n",
       "1             4583             1508.0       128.0             360.0   \n",
       "2             3000                0.0        66.0             360.0   \n",
       "3             2583             2358.0       120.0             360.0   \n",
       "4             6000                0.0       141.0             360.0   \n",
       "\n",
       "   Credit_History  Gender_Male  Married_Yes  Dependents_1  Dependents_2  \\\n",
       "0             1.0            1            0             0             0   \n",
       "1             1.0            1            1             1             0   \n",
       "2             1.0            1            1             0             0   \n",
       "3             1.0            1            1             0             0   \n",
       "4             1.0            1            0             0             0   \n",
       "\n",
       "   Dependents_3+  Education_Not Graduate  Self_Employed_Yes  \\\n",
       "0              0                       0                  0   \n",
       "1              0                       0                  0   \n",
       "2              0                       0                  1   \n",
       "3              0                       1                  0   \n",
       "4              0                       0                  0   \n",
       "\n",
       "   Property_Area_Semiurban  Property_Area_Urban  \n",
       "0                        0                    1  \n",
       "1                        0                    0  \n",
       "2                        0                    1  \n",
       "3                        0                    1  \n",
       "4                        0                    1  "
      ]
     },
     "execution_count": 18,
     "metadata": {},
     "output_type": "execute_result"
    }
   ],
   "source": [
    "X=train.drop([\"Loan_Status\",'Loan_ID'],axis=1)\n",
    "y=train[\"Loan_Status\"]\n",
    "\n",
    "X = pd.get_dummies(X,drop_first=True)\n",
    "X.head()"
   ]
  },
  {
   "cell_type": "markdown",
   "metadata": {
    "papermill": {
     "duration": 0.020386,
     "end_time": "2020-08-30T10:56:05.726219",
     "exception": false,
     "start_time": "2020-08-30T10:56:05.705833",
     "status": "completed"
    },
    "tags": []
   },
   "source": [
    "# Train/Test Split"
   ]
  },
  {
   "cell_type": "code",
   "execution_count": 19,
   "metadata": {
    "execution": {
     "iopub.execute_input": "2020-08-30T10:56:05.772790Z",
     "iopub.status.busy": "2020-08-30T10:56:05.771654Z",
     "iopub.status.idle": "2020-08-30T10:56:05.779443Z",
     "shell.execute_reply": "2020-08-30T10:56:05.779962Z"
    },
    "papermill": {
     "duration": 0.032093,
     "end_time": "2020-08-30T10:56:05.780123",
     "exception": false,
     "start_time": "2020-08-30T10:56:05.748030",
     "status": "completed"
    },
    "tags": []
   },
   "outputs": [],
   "source": [
    "x_train, x_test, y_train, y_test = train_test_split(X,y, test_size=0.3, random_state=0)"
   ]
  },
  {
   "cell_type": "markdown",
   "metadata": {
    "papermill": {
     "duration": 0.021879,
     "end_time": "2020-08-30T10:56:05.822640",
     "exception": false,
     "start_time": "2020-08-30T10:56:05.800761",
     "status": "completed"
    },
    "tags": []
   },
   "source": [
    "# Step 4: Fitting the dataset to various models\n",
    "# 1) Logistic Regression"
   ]
  },
  {
   "cell_type": "code",
   "execution_count": 20,
   "metadata": {
    "execution": {
     "iopub.execute_input": "2020-08-30T10:56:05.867761Z",
     "iopub.status.busy": "2020-08-30T10:56:05.866684Z",
     "iopub.status.idle": "2020-08-30T10:56:05.907068Z",
     "shell.execute_reply": "2020-08-30T10:56:05.907655Z"
    },
    "papermill": {
     "duration": 0.064554,
     "end_time": "2020-08-30T10:56:05.907838",
     "exception": false,
     "start_time": "2020-08-30T10:56:05.843284",
     "status": "completed"
    },
    "tags": []
   },
   "outputs": [
    {
     "data": {
      "text/plain": [
       "LogisticRegression(max_iter=1000, random_state=0)"
      ]
     },
     "execution_count": 20,
     "metadata": {},
     "output_type": "execute_result"
    }
   ],
   "source": [
    "logistic_Regression = LogisticRegression(max_iter=1000,random_state=0)\n",
    "logistic_Regression.fit(x_train,y_train)"
   ]
  },
  {
   "cell_type": "code",
   "execution_count": 21,
   "metadata": {
    "execution": {
     "iopub.execute_input": "2020-08-30T10:56:05.955193Z",
     "iopub.status.busy": "2020-08-30T10:56:05.954131Z",
     "iopub.status.idle": "2020-08-30T10:56:05.961520Z",
     "shell.execute_reply": "2020-08-30T10:56:05.962140Z"
    },
    "papermill": {
     "duration": 0.032747,
     "end_time": "2020-08-30T10:56:05.962301",
     "exception": false,
     "start_time": "2020-08-30T10:56:05.929554",
     "status": "completed"
    },
    "tags": []
   },
   "outputs": [],
   "source": [
    "y_pred = logistic_Regression.predict(x_test)"
   ]
  },
  {
   "cell_type": "code",
   "execution_count": 22,
   "metadata": {
    "execution": {
     "iopub.execute_input": "2020-08-30T10:56:06.012443Z",
     "iopub.status.busy": "2020-08-30T10:56:06.011281Z",
     "iopub.status.idle": "2020-08-30T10:56:06.013876Z",
     "shell.execute_reply": "2020-08-30T10:56:06.014404Z"
    },
    "papermill": {
     "duration": 0.030651,
     "end_time": "2020-08-30T10:56:06.014549",
     "exception": false,
     "start_time": "2020-08-30T10:56:05.983898",
     "status": "completed"
    },
    "tags": []
   },
   "outputs": [],
   "source": [
    "log = accuracy_score(y_pred,y_test)*100"
   ]
  },
  {
   "cell_type": "code",
   "execution_count": 23,
   "metadata": {
    "execution": {
     "iopub.execute_input": "2020-08-30T10:56:06.060878Z",
     "iopub.status.busy": "2020-08-30T10:56:06.059843Z",
     "iopub.status.idle": "2020-08-30T10:56:06.172471Z",
     "shell.execute_reply": "2020-08-30T10:56:06.173267Z"
    },
    "papermill": {
     "duration": 0.138004,
     "end_time": "2020-08-30T10:56:06.173478",
     "exception": false,
     "start_time": "2020-08-30T10:56:06.035474",
     "status": "completed"
    },
    "tags": []
   },
   "outputs": [
    {
     "name": "stdout",
     "output_type": "stream",
     "text": [
      "[[ 24   3]\n",
      " [ 27 131]]\n"
     ]
    }
   ],
   "source": [
    "print(confusion_matrix(y_pred,y_test))"
   ]
  },
  {
   "cell_type": "code",
   "execution_count": 24,
   "metadata": {
    "execution": {
     "iopub.execute_input": "2020-08-30T10:56:06.225548Z",
     "iopub.status.busy": "2020-08-30T10:56:06.224479Z",
     "iopub.status.idle": "2020-08-30T10:56:06.237565Z",
     "shell.execute_reply": "2020-08-30T10:56:06.238542Z"
    },
    "papermill": {
     "duration": 0.044519,
     "end_time": "2020-08-30T10:56:06.238894",
     "exception": false,
     "start_time": "2020-08-30T10:56:06.194375",
     "status": "completed"
    },
    "tags": []
   },
   "outputs": [
    {
     "name": "stdout",
     "output_type": "stream",
     "text": [
      "              precision    recall  f1-score   support\n",
      "\n",
      "           N       0.47      0.89      0.62        27\n",
      "           Y       0.98      0.83      0.90       158\n",
      "\n",
      "    accuracy                           0.84       185\n",
      "   macro avg       0.72      0.86      0.76       185\n",
      "weighted avg       0.90      0.84      0.86       185\n",
      "\n"
     ]
    }
   ],
   "source": [
    "print(classification_report(y_pred,y_test))"
   ]
  },
  {
   "cell_type": "markdown",
   "metadata": {
    "papermill": {
     "duration": 0.022343,
     "end_time": "2020-08-30T10:56:06.285485",
     "exception": false,
     "start_time": "2020-08-30T10:56:06.263142",
     "status": "completed"
    },
    "tags": []
   },
   "source": [
    "# 2) KNN"
   ]
  },
  {
   "cell_type": "code",
   "execution_count": 25,
   "metadata": {
    "execution": {
     "iopub.execute_input": "2020-08-30T10:56:06.384334Z",
     "iopub.status.busy": "2020-08-30T10:56:06.383568Z",
     "iopub.status.idle": "2020-08-30T10:56:06.395609Z",
     "shell.execute_reply": "2020-08-30T10:56:06.396343Z"
    },
    "papermill": {
     "duration": 0.037604,
     "end_time": "2020-08-30T10:56:06.396565",
     "exception": false,
     "start_time": "2020-08-30T10:56:06.358961",
     "status": "completed"
    },
    "tags": []
   },
   "outputs": [
    {
     "data": {
      "text/plain": [
       "KNeighborsClassifier(n_neighbors=200)"
      ]
     },
     "execution_count": 25,
     "metadata": {},
     "output_type": "execute_result"
    }
   ],
   "source": [
    "knn = KNeighborsClassifier(n_neighbors=200)\n",
    "knn.fit(x_train,y_train)"
   ]
  },
  {
   "cell_type": "code",
   "execution_count": 26,
   "metadata": {
    "execution": {
     "iopub.execute_input": "2020-08-30T10:56:06.448471Z",
     "iopub.status.busy": "2020-08-30T10:56:06.447434Z",
     "iopub.status.idle": "2020-08-30T10:56:06.471155Z",
     "shell.execute_reply": "2020-08-30T10:56:06.471742Z"
    },
    "papermill": {
     "duration": 0.05157,
     "end_time": "2020-08-30T10:56:06.471903",
     "exception": false,
     "start_time": "2020-08-30T10:56:06.420333",
     "status": "completed"
    },
    "tags": []
   },
   "outputs": [],
   "source": [
    "pred_knn = knn.predict(x_test)"
   ]
  },
  {
   "cell_type": "code",
   "execution_count": 27,
   "metadata": {
    "execution": {
     "iopub.execute_input": "2020-08-30T10:56:06.519647Z",
     "iopub.status.busy": "2020-08-30T10:56:06.518623Z",
     "iopub.status.idle": "2020-08-30T10:56:06.523977Z",
     "shell.execute_reply": "2020-08-30T10:56:06.524504Z"
    },
    "papermill": {
     "duration": 0.03018,
     "end_time": "2020-08-30T10:56:06.524652",
     "exception": false,
     "start_time": "2020-08-30T10:56:06.494472",
     "status": "completed"
    },
    "tags": []
   },
   "outputs": [],
   "source": [
    "KNN = accuracy_score(pred_knn,y_test)*100"
   ]
  },
  {
   "cell_type": "code",
   "execution_count": 28,
   "metadata": {
    "execution": {
     "iopub.execute_input": "2020-08-30T10:56:06.572472Z",
     "iopub.status.busy": "2020-08-30T10:56:06.571376Z",
     "iopub.status.idle": "2020-08-30T10:56:06.581828Z",
     "shell.execute_reply": "2020-08-30T10:56:06.581097Z"
    },
    "papermill": {
     "duration": 0.03593,
     "end_time": "2020-08-30T10:56:06.581951",
     "exception": false,
     "start_time": "2020-08-30T10:56:06.546021",
     "status": "completed"
    },
    "tags": []
   },
   "outputs": [
    {
     "name": "stdout",
     "output_type": "stream",
     "text": [
      "[[  0   0]\n",
      " [ 51 134]]\n"
     ]
    }
   ],
   "source": [
    "print(confusion_matrix(pred_knn,y_test))"
   ]
  },
  {
   "cell_type": "code",
   "execution_count": 29,
   "metadata": {
    "execution": {
     "iopub.execute_input": "2020-08-30T10:56:06.636456Z",
     "iopub.status.busy": "2020-08-30T10:56:06.635627Z",
     "iopub.status.idle": "2020-08-30T10:56:06.658004Z",
     "shell.execute_reply": "2020-08-30T10:56:06.659180Z"
    },
    "papermill": {
     "duration": 0.054772,
     "end_time": "2020-08-30T10:56:06.659430",
     "exception": false,
     "start_time": "2020-08-30T10:56:06.604658",
     "status": "completed"
    },
    "tags": []
   },
   "outputs": [
    {
     "name": "stdout",
     "output_type": "stream",
     "text": [
      "              precision    recall  f1-score   support\n",
      "\n",
      "           N       0.00      0.00      0.00         0\n",
      "           Y       1.00      0.72      0.84       185\n",
      "\n",
      "    accuracy                           0.72       185\n",
      "   macro avg       0.50      0.36      0.42       185\n",
      "weighted avg       1.00      0.72      0.84       185\n",
      "\n"
     ]
    },
    {
     "name": "stderr",
     "output_type": "stream",
     "text": [
      "C:\\Users\\umesh\\anaconda3\\lib\\site-packages\\sklearn\\metrics\\_classification.py:1221: UndefinedMetricWarning: Recall and F-score are ill-defined and being set to 0.0 in labels with no true samples. Use `zero_division` parameter to control this behavior.\n",
      "  _warn_prf(average, modifier, msg_start, len(result))\n"
     ]
    }
   ],
   "source": [
    "print(classification_report(pred_knn,y_test))"
   ]
  },
  {
   "cell_type": "code",
   "execution_count": 30,
   "metadata": {
    "execution": {
     "iopub.execute_input": "2020-08-30T10:56:06.717287Z",
     "iopub.status.busy": "2020-08-30T10:56:06.716454Z",
     "iopub.status.idle": "2020-08-30T10:56:07.505541Z",
     "shell.execute_reply": "2020-08-30T10:56:07.504996Z"
    },
    "papermill": {
     "duration": 0.821093,
     "end_time": "2020-08-30T10:56:07.505669",
     "exception": false,
     "start_time": "2020-08-30T10:56:06.684576",
     "status": "completed"
    },
    "tags": []
   },
   "outputs": [
    {
     "name": "stdout",
     "output_type": "stream",
     "text": [
      "[0.43243243243243246, 0.4864864864864865, 0.40540540540540543, 0.42162162162162165, 0.372972972972973, 0.3891891891891892, 0.3675675675675676, 0.372972972972973, 0.31891891891891894, 0.35135135135135137, 0.3081081081081081, 0.34594594594594597, 0.32432432432432434, 0.33513513513513515, 0.32432432432432434, 0.31351351351351353, 0.2972972972972973, 0.32972972972972975, 0.3027027027027027, 0.31351351351351353, 0.2972972972972973, 0.31351351351351353, 0.2972972972972973, 0.2972972972972973, 0.2864864864864865, 0.2918918918918919, 0.2810810810810811, 0.2864864864864865, 0.2810810810810811, 0.2810810810810811, 0.2810810810810811, 0.2864864864864865, 0.2918918918918919, 0.2864864864864865, 0.2810810810810811, 0.2810810810810811, 0.2756756756756757, 0.2810810810810811, 0.2756756756756757, 0.2756756756756757, 0.2756756756756757, 0.2756756756756757, 0.2756756756756757, 0.2756756756756757, 0.2756756756756757, 0.2756756756756757, 0.2756756756756757, 0.2756756756756757, 0.2756756756756757]\n"
     ]
    }
   ],
   "source": [
    "error=[]\n",
    "for i in range(1,50):\n",
    "    knn = KNeighborsClassifier(n_neighbors=i)\n",
    "    knn.fit(x_train,y_train)\n",
    "    pred1=knn.predict(x_test)\n",
    "    error.append(np.mean(pred1!=y_test))\n",
    "print(error)"
   ]
  },
  {
   "cell_type": "code",
   "execution_count": 31,
   "metadata": {
    "execution": {
     "iopub.execute_input": "2020-08-30T10:56:07.564312Z",
     "iopub.status.busy": "2020-08-30T10:56:07.563301Z",
     "iopub.status.idle": "2020-08-30T10:56:07.724680Z",
     "shell.execute_reply": "2020-08-30T10:56:07.724057Z"
    },
    "papermill": {
     "duration": 0.197612,
     "end_time": "2020-08-30T10:56:07.724843",
     "exception": false,
     "start_time": "2020-08-30T10:56:07.527231",
     "status": "completed"
    },
    "tags": []
   },
   "outputs": [
    {
     "data": {
      "text/plain": [
       "Text(0, 0.5, 'error rate')"
      ]
     },
     "execution_count": 31,
     "metadata": {},
     "output_type": "execute_result"
    },
    {
     "data": {
      "image/png": "[encoded data removed]",
      "text/plain": [
       "<Figure size 720x432 with 1 Axes>"
      ]
     },
     "metadata": {
      "needs_background": "light"
     },
     "output_type": "display_data"
    }
   ],
   "source": [
    "plt.figure(figsize=(10,6))\n",
    "plt.plot(range(1,50),error,color='blue',linestyle='dashed',marker = 'o',markerfacecolor='red',markersize=10)\n",
    "plt.title('Error rate vs K value')\n",
    "plt.xlabel('k')\n",
    "plt.ylabel('error rate')"
   ]
  },
  {
   "cell_type": "markdown",
   "metadata": {
    "papermill": {
     "duration": 0.022516,
     "end_time": "2020-08-30T10:56:08.411549",
     "exception": false,
     "start_time": "2020-08-30T10:56:08.389033",
     "status": "completed"
    },
    "tags": []
   },
   "source": [
    "# 3) Decision Tree - Entropy"
   ]
  },
  {
   "cell_type": "code",
   "execution_count": 32,
   "metadata": {
    "execution": {
     "iopub.execute_input": "2020-08-30T10:56:08.464109Z",
     "iopub.status.busy": "2020-08-30T10:56:08.463074Z",
     "iopub.status.idle": "2020-08-30T10:56:08.466026Z",
     "shell.execute_reply": "2020-08-30T10:56:08.465507Z"
    },
    "papermill": {
     "duration": 0.031439,
     "end_time": "2020-08-30T10:56:08.466145",
     "exception": false,
     "start_time": "2020-08-30T10:56:08.434706",
     "status": "completed"
    },
    "tags": []
   },
   "outputs": [],
   "source": [
    "dtree_en = DecisionTreeClassifier(criterion='entropy',splitter='random',max_leaf_nodes=5,min_samples_leaf=10,max_depth=3)"
   ]
  },
  {
   "cell_type": "code",
   "execution_count": 33,
   "metadata": {
    "execution": {
     "iopub.execute_input": "2020-08-30T10:56:08.522300Z",
     "iopub.status.busy": "2020-08-30T10:56:08.521489Z",
     "iopub.status.idle": "2020-08-30T10:56:08.524851Z",
     "shell.execute_reply": "2020-08-30T10:56:08.524157Z"
    },
    "papermill": {
     "duration": 0.035915,
     "end_time": "2020-08-30T10:56:08.524977",
     "exception": false,
     "start_time": "2020-08-30T10:56:08.489062",
     "status": "completed"
    },
    "tags": []
   },
   "outputs": [],
   "source": [
    "clf = dtree_en.fit(x_train,y_train)"
   ]
  },
  {
   "cell_type": "code",
   "execution_count": 34,
   "metadata": {
    "execution": {
     "iopub.execute_input": "2020-08-30T10:56:08.580398Z",
     "iopub.status.busy": "2020-08-30T10:56:08.579402Z",
     "iopub.status.idle": "2020-08-30T10:56:08.582840Z",
     "shell.execute_reply": "2020-08-30T10:56:08.582179Z"
    },
    "papermill": {
     "duration": 0.03485,
     "end_time": "2020-08-30T10:56:08.582969",
     "exception": false,
     "start_time": "2020-08-30T10:56:08.548119",
     "status": "completed"
    },
    "tags": []
   },
   "outputs": [],
   "source": [
    "pred_dt = clf.predict(x_test)"
   ]
  },
  {
   "cell_type": "code",
   "execution_count": 35,
   "metadata": {
    "execution": {
     "iopub.execute_input": "2020-08-30T10:56:08.637016Z",
     "iopub.status.busy": "2020-08-30T10:56:08.636310Z",
     "iopub.status.idle": "2020-08-30T10:56:08.639660Z",
     "shell.execute_reply": "2020-08-30T10:56:08.638587Z"
    },
    "papermill": {
     "duration": 0.032638,
     "end_time": "2020-08-30T10:56:08.639805",
     "exception": false,
     "start_time": "2020-08-30T10:56:08.607167",
     "status": "completed"
    },
    "tags": []
   },
   "outputs": [],
   "source": [
    "DTREE = accuracy_score(pred_dt,y_test)*100"
   ]
  },
  {
   "cell_type": "code",
   "execution_count": 36,
   "metadata": {
    "execution": {
     "iopub.execute_input": "2020-08-30T10:56:08.700781Z",
     "iopub.status.busy": "2020-08-30T10:56:08.699989Z",
     "iopub.status.idle": "2020-08-30T10:56:08.722496Z",
     "shell.execute_reply": "2020-08-30T10:56:08.721343Z"
    },
    "papermill": {
     "duration": 0.055186,
     "end_time": "2020-08-30T10:56:08.722642",
     "exception": false,
     "start_time": "2020-08-30T10:56:08.667456",
     "status": "completed"
    },
    "tags": []
   },
   "outputs": [
    {
     "name": "stdout",
     "output_type": "stream",
     "text": [
      "[[ 21  30]\n",
      " [  2 132]]\n",
      "              precision    recall  f1-score   support\n",
      "\n",
      "           N       0.91      0.41      0.57        51\n",
      "           Y       0.81      0.99      0.89       134\n",
      "\n",
      "    accuracy                           0.83       185\n",
      "   macro avg       0.86      0.70      0.73       185\n",
      "weighted avg       0.84      0.83      0.80       185\n",
      "\n"
     ]
    }
   ],
   "source": [
    "cm=confusion_matrix(y_test,pred_dt)\n",
    "print(cm)\n",
    "print(classification_report(y_test,pred_dt))"
   ]
  },
  {
   "cell_type": "markdown",
   "metadata": {
    "papermill": {
     "duration": 0.023945,
     "end_time": "2020-08-30T10:56:08.771492",
     "exception": false,
     "start_time": "2020-08-30T10:56:08.747547",
     "status": "completed"
    },
    "tags": []
   },
   "source": [
    "# 4) Decision Tree - Gini"
   ]
  },
  {
   "cell_type": "code",
   "execution_count": 37,
   "metadata": {
    "execution": {
     "iopub.execute_input": "2020-08-30T10:56:08.821866Z",
     "iopub.status.busy": "2020-08-30T10:56:08.821124Z",
     "iopub.status.idle": "2020-08-30T10:56:08.831324Z",
     "shell.execute_reply": "2020-08-30T10:56:08.831883Z"
    },
    "papermill": {
     "duration": 0.037061,
     "end_time": "2020-08-30T10:56:08.832026",
     "exception": false,
     "start_time": "2020-08-30T10:56:08.794965",
     "status": "completed"
    },
    "tags": []
   },
   "outputs": [
    {
     "data": {
      "text/plain": [
       "DecisionTreeClassifier(max_depth=5, max_leaf_nodes=5, min_samples_leaf=10,\n",
       "                       splitter='random')"
      ]
     },
     "execution_count": 37,
     "metadata": {},
     "output_type": "execute_result"
    }
   ],
   "source": [
    "dtree = DecisionTreeClassifier(criterion='gini',splitter='random',max_leaf_nodes=5,min_samples_leaf=10,max_depth=5)\n",
    "dtree.fit(x_train,y_train)"
   ]
  },
  {
   "cell_type": "code",
   "execution_count": 38,
   "metadata": {
    "execution": {
     "iopub.execute_input": "2020-08-30T10:56:08.883208Z",
     "iopub.status.busy": "2020-08-30T10:56:08.882560Z",
     "iopub.status.idle": "2020-08-30T10:56:08.888995Z",
     "shell.execute_reply": "2020-08-30T10:56:08.889484Z"
    },
    "papermill": {
     "duration": 0.033858,
     "end_time": "2020-08-30T10:56:08.889649",
     "exception": false,
     "start_time": "2020-08-30T10:56:08.855791",
     "status": "completed"
    },
    "tags": []
   },
   "outputs": [],
   "source": [
    "pred_g = dtree.predict(x_test)"
   ]
  },
  {
   "cell_type": "code",
   "execution_count": 39,
   "metadata": {
    "execution": {
     "iopub.execute_input": "2020-08-30T10:56:08.943055Z",
     "iopub.status.busy": "2020-08-30T10:56:08.941989Z",
     "iopub.status.idle": "2020-08-30T10:56:08.947568Z",
     "shell.execute_reply": "2020-08-30T10:56:08.948076Z"
    },
    "papermill": {
     "duration": 0.034006,
     "end_time": "2020-08-30T10:56:08.948252",
     "exception": false,
     "start_time": "2020-08-30T10:56:08.914246",
     "status": "completed"
    },
    "tags": []
   },
   "outputs": [],
   "source": [
    "DTREE_G = accuracy_score(y_test,pred_g)*100"
   ]
  },
  {
   "cell_type": "code",
   "execution_count": 40,
   "metadata": {
    "execution": {
     "iopub.execute_input": "2020-08-30T10:56:09.000889Z",
     "iopub.status.busy": "2020-08-30T10:56:08.999847Z",
     "iopub.status.idle": "2020-08-30T10:56:09.019648Z",
     "shell.execute_reply": "2020-08-30T10:56:09.020505Z"
    },
    "papermill": {
     "duration": 0.048728,
     "end_time": "2020-08-30T10:56:09.020769",
     "exception": false,
     "start_time": "2020-08-30T10:56:08.972041",
     "status": "completed"
    },
    "tags": []
   },
   "outputs": [
    {
     "name": "stdout",
     "output_type": "stream",
     "text": [
      "[[ 21  30]\n",
      " [  2 132]]\n",
      "              precision    recall  f1-score   support\n",
      "\n",
      "           N       0.91      0.41      0.57        51\n",
      "           Y       0.81      0.99      0.89       134\n",
      "\n",
      "    accuracy                           0.83       185\n",
      "   macro avg       0.86      0.70      0.73       185\n",
      "weighted avg       0.84      0.83      0.80       185\n",
      "\n"
     ]
    }
   ],
   "source": [
    "cm=confusion_matrix(y_test,pred_g)\n",
    "print(cm)\n",
    "print(classification_report(y_test,pred_g))"
   ]
  },
  {
   "cell_type": "markdown",
   "metadata": {
    "papermill": {
     "duration": 0.024114,
     "end_time": "2020-08-30T10:56:09.069435",
     "exception": false,
     "start_time": "2020-08-30T10:56:09.045321",
     "status": "completed"
    },
    "tags": []
   },
   "source": [
    "# 5) Random Forest"
   ]
  },
  {
   "cell_type": "code",
   "execution_count": 41,
   "metadata": {
    "execution": {
     "iopub.execute_input": "2020-08-30T10:56:09.154110Z",
     "iopub.status.busy": "2020-08-30T10:56:09.148925Z",
     "iopub.status.idle": "2020-08-30T10:56:10.138412Z",
     "shell.execute_reply": "2020-08-30T10:56:10.138971Z"
    },
    "papermill": {
     "duration": 1.044816,
     "end_time": "2020-08-30T10:56:10.139126",
     "exception": false,
     "start_time": "2020-08-30T10:56:09.094310",
     "status": "completed"
    },
    "tags": []
   },
   "outputs": [
    {
     "data": {
      "text/plain": [
       "RandomForestClassifier(criterion='entropy', n_estimators=400)"
      ]
     },
     "execution_count": 41,
     "metadata": {},
     "output_type": "execute_result"
    }
   ],
   "source": [
    "rfc = RandomForestClassifier(criterion='entropy',n_estimators=400)\n",
    "rfc.fit(x_train, y_train)"
   ]
  },
  {
   "cell_type": "code",
   "execution_count": 42,
   "metadata": {
    "execution": {
     "iopub.execute_input": "2020-08-30T10:56:10.197700Z",
     "iopub.status.busy": "2020-08-30T10:56:10.196478Z",
     "iopub.status.idle": "2020-08-30T10:56:10.249105Z",
     "shell.execute_reply": "2020-08-30T10:56:10.248404Z"
    },
    "papermill": {
     "duration": 0.085706,
     "end_time": "2020-08-30T10:56:10.249223",
     "exception": false,
     "start_time": "2020-08-30T10:56:10.163517",
     "status": "completed"
    },
    "tags": []
   },
   "outputs": [],
   "source": [
    "pred_rf= rfc.predict(x_test)"
   ]
  },
  {
   "cell_type": "code",
   "execution_count": 43,
   "metadata": {
    "execution": {
     "iopub.execute_input": "2020-08-30T10:56:10.304405Z",
     "iopub.status.busy": "2020-08-30T10:56:10.303449Z",
     "iopub.status.idle": "2020-08-30T10:56:10.308578Z",
     "shell.execute_reply": "2020-08-30T10:56:10.307893Z"
    },
    "papermill": {
     "duration": 0.03534,
     "end_time": "2020-08-30T10:56:10.308714",
     "exception": false,
     "start_time": "2020-08-30T10:56:10.273374",
     "status": "completed"
    },
    "tags": []
   },
   "outputs": [
    {
     "data": {
      "text/plain": [
       "80.54054054054053"
      ]
     },
     "execution_count": 43,
     "metadata": {},
     "output_type": "execute_result"
    }
   ],
   "source": [
    "RFC = accuracy_score(y_test,pred_rf)*100\n",
    "RFC"
   ]
  },
  {
   "cell_type": "code",
   "execution_count": 44,
   "metadata": {
    "execution": {
     "iopub.execute_input": "2020-08-30T10:56:10.361163Z",
     "iopub.status.busy": "2020-08-30T10:56:10.360468Z",
     "iopub.status.idle": "2020-08-30T10:56:10.368053Z",
     "shell.execute_reply": "2020-08-30T10:56:10.369056Z"
    },
    "papermill": {
     "duration": 0.036018,
     "end_time": "2020-08-30T10:56:10.369275",
     "exception": false,
     "start_time": "2020-08-30T10:56:10.333257",
     "status": "completed"
    },
    "tags": []
   },
   "outputs": [
    {
     "name": "stdout",
     "output_type": "stream",
     "text": [
      "[[ 21   6]\n",
      " [ 30 128]]\n"
     ]
    }
   ],
   "source": [
    "print(confusion_matrix(pred_rf,y_test))"
   ]
  },
  {
   "cell_type": "code",
   "execution_count": 45,
   "metadata": {
    "execution": {
     "iopub.execute_input": "2020-08-30T10:56:10.429494Z",
     "iopub.status.busy": "2020-08-30T10:56:10.428701Z",
     "iopub.status.idle": "2020-08-30T10:56:10.439831Z",
     "shell.execute_reply": "2020-08-30T10:56:10.440414Z"
    },
    "papermill": {
     "duration": 0.046004,
     "end_time": "2020-08-30T10:56:10.440558",
     "exception": false,
     "start_time": "2020-08-30T10:56:10.394554",
     "status": "completed"
    },
    "tags": []
   },
   "outputs": [
    {
     "name": "stdout",
     "output_type": "stream",
     "text": [
      "              precision    recall  f1-score   support\n",
      "\n",
      "           N       0.41      0.78      0.54        27\n",
      "           Y       0.96      0.81      0.88       158\n",
      "\n",
      "    accuracy                           0.81       185\n",
      "   macro avg       0.68      0.79      0.71       185\n",
      "weighted avg       0.88      0.81      0.83       185\n",
      "\n"
     ]
    }
   ],
   "source": [
    "print(classification_report(pred_rf,y_test))"
   ]
  },
  {
   "cell_type": "markdown",
   "metadata": {
    "papermill": {
     "duration": 0.023831,
     "end_time": "2020-08-30T10:56:10.492490",
     "exception": false,
     "start_time": "2020-08-30T10:56:10.468659",
     "status": "completed"
    },
    "tags": []
   },
   "source": [
    "# 6) AdaBoost (Entropy-Decision Tree)"
   ]
  },
  {
   "cell_type": "code",
   "execution_count": 46,
   "metadata": {
    "execution": {
     "iopub.execute_input": "2020-08-30T10:56:10.544804Z",
     "iopub.status.busy": "2020-08-30T10:56:10.544108Z",
     "iopub.status.idle": "2020-08-30T10:56:10.776748Z",
     "shell.execute_reply": "2020-08-30T10:56:10.776074Z"
    },
    "papermill": {
     "duration": 0.260193,
     "end_time": "2020-08-30T10:56:10.776878",
     "exception": false,
     "start_time": "2020-08-30T10:56:10.516685",
     "status": "completed"
    },
    "tags": []
   },
   "outputs": [
    {
     "data": {
      "text/plain": [
       "AdaBoostClassifier(base_estimator=DecisionTreeClassifier(criterion='entropy',\n",
       "                                                         max_depth=1,\n",
       "                                                         random_state=0),\n",
       "                   n_estimators=80, random_state=0)"
      ]
     },
     "execution_count": 46,
     "metadata": {},
     "output_type": "execute_result"
    }
   ],
   "source": [
    "model = DecisionTreeClassifier(criterion='entropy',max_depth=1,random_state=0)\n",
    "adaboost = AdaBoostClassifier(n_estimators=80, base_estimator=model,random_state=0)\n",
    "adaboost.fit(x_train,y_train)"
   ]
  },
  {
   "cell_type": "code",
   "execution_count": 47,
   "metadata": {
    "execution": {
     "iopub.execute_input": "2020-08-30T10:56:10.836293Z",
     "iopub.status.busy": "2020-08-30T10:56:10.834758Z",
     "iopub.status.idle": "2020-08-30T10:56:10.855055Z",
     "shell.execute_reply": "2020-08-30T10:56:10.854485Z"
    },
    "papermill": {
     "duration": 0.053519,
     "end_time": "2020-08-30T10:56:10.855181",
     "exception": false,
     "start_time": "2020-08-30T10:56:10.801662",
     "status": "completed"
    },
    "tags": []
   },
   "outputs": [],
   "source": [
    "pred = adaboost.predict(x_test)"
   ]
  },
  {
   "cell_type": "code",
   "execution_count": 48,
   "metadata": {
    "execution": {
     "iopub.execute_input": "2020-08-30T10:56:10.910862Z",
     "iopub.status.busy": "2020-08-30T10:56:10.910027Z",
     "iopub.status.idle": "2020-08-30T10:56:10.913021Z",
     "shell.execute_reply": "2020-08-30T10:56:10.912427Z"
    },
    "papermill": {
     "duration": 0.033517,
     "end_time": "2020-08-30T10:56:10.913139",
     "exception": false,
     "start_time": "2020-08-30T10:56:10.879622",
     "status": "completed"
    },
    "tags": []
   },
   "outputs": [],
   "source": [
    "ada = accuracy_score(y_test,pred)*100"
   ]
  },
  {
   "cell_type": "markdown",
   "metadata": {
    "papermill": {
     "duration": 0.024466,
     "end_time": "2020-08-30T10:56:10.962407",
     "exception": false,
     "start_time": "2020-08-30T10:56:10.937941",
     "status": "completed"
    },
    "tags": []
   },
   "source": [
    "# 7) AdaBoost (Gini-Decision Tree)"
   ]
  },
  {
   "cell_type": "code",
   "execution_count": 49,
   "metadata": {
    "execution": {
     "iopub.execute_input": "2020-08-30T10:56:11.024581Z",
     "iopub.status.busy": "2020-08-30T10:56:11.021242Z",
     "iopub.status.idle": "2020-08-30T10:56:11.259611Z",
     "shell.execute_reply": "2020-08-30T10:56:11.258900Z"
    },
    "papermill": {
     "duration": 0.27144,
     "end_time": "2020-08-30T10:56:11.259761",
     "exception": false,
     "start_time": "2020-08-30T10:56:10.988321",
     "status": "completed"
    },
    "tags": []
   },
   "outputs": [
    {
     "data": {
      "text/plain": [
       "AdaBoostClassifier(base_estimator=DecisionTreeClassifier(max_depth=1,\n",
       "                                                         random_state=0),\n",
       "                   n_estimators=90, random_state=0)"
      ]
     },
     "execution_count": 49,
     "metadata": {},
     "output_type": "execute_result"
    }
   ],
   "source": [
    "model_g = DecisionTreeClassifier(criterion='gini',max_depth=1,random_state=0)\n",
    "adaboost1 = AdaBoostClassifier(n_estimators=90, base_estimator=model_g,random_state=0)\n",
    "adaboost1.fit(x_train,y_train)"
   ]
  },
  {
   "cell_type": "code",
   "execution_count": 50,
   "metadata": {
    "execution": {
     "iopub.execute_input": "2020-08-30T10:56:11.319421Z",
     "iopub.status.busy": "2020-08-30T10:56:11.318251Z",
     "iopub.status.idle": "2020-08-30T10:56:11.336133Z",
     "shell.execute_reply": "2020-08-30T10:56:11.335379Z"
    },
    "papermill": {
     "duration": 0.051189,
     "end_time": "2020-08-30T10:56:11.336256",
     "exception": false,
     "start_time": "2020-08-30T10:56:11.285067",
     "status": "completed"
    },
    "tags": []
   },
   "outputs": [],
   "source": [
    "pred_gini = adaboost.predict(x_test)"
   ]
  },
  {
   "cell_type": "code",
   "execution_count": 51,
   "metadata": {
    "execution": {
     "iopub.execute_input": "2020-08-30T10:56:11.392425Z",
     "iopub.status.busy": "2020-08-30T10:56:11.391755Z",
     "iopub.status.idle": "2020-08-30T10:56:11.395079Z",
     "shell.execute_reply": "2020-08-30T10:56:11.394500Z"
    },
    "papermill": {
     "duration": 0.033952,
     "end_time": "2020-08-30T10:56:11.395203",
     "exception": false,
     "start_time": "2020-08-30T10:56:11.361251",
     "status": "completed"
    },
    "tags": []
   },
   "outputs": [],
   "source": [
    "g = accuracy_score(y_test,pred_gini)*100"
   ]
  },
  {
   "cell_type": "code",
   "execution_count": 52,
   "metadata": {
    "execution": {
     "iopub.execute_input": "2020-08-30T10:56:12.026372Z",
     "iopub.status.busy": "2020-08-30T10:56:12.025079Z",
     "iopub.status.idle": "2020-08-30T10:56:12.029428Z",
     "shell.execute_reply": "2020-08-30T10:56:12.030069Z"
    },
    "papermill": {
     "duration": 0.051328,
     "end_time": "2020-08-30T10:56:12.030245",
     "exception": false,
     "start_time": "2020-08-30T10:56:11.978917",
     "status": "completed"
    },
    "tags": []
   },
   "outputs": [
    {
     "name": "stdout",
     "output_type": "stream",
     "text": [
      "1)  Logistic Regression    : 83.78378378378379\n",
      "2)  AdaBoost - Entropy     : 81.62162162162161\n",
      "3)  AdaBoost - Gini        : 81.62162162162161\n",
      "4)  Decision Tree - Entropy: 82.70270270270271\n",
      "5)  Decision Tree - Gini   : 82.70270270270271\n",
      "6)  Random Forest          : 80.54054054054053\n",
      "7)  KNN                    : 72.43243243243244\n"
     ]
    }
   ],
   "source": [
    "print(\"1)  Logistic Regression    :\",log)\n",
    "print(\"2)  AdaBoost - Entropy     :\",ada)\n",
    "print(\"3)  AdaBoost - Gini        :\",g)\n",
    "print(\"4)  Decision Tree - Entropy:\",DTREE)\n",
    "print(\"5)  Decision Tree - Gini   :\",DTREE_G)\n",
    "print(\"6)  Random Forest          :\",RFC)\n",
    "print(\"7)  KNN                    :\",KNN)"
   ]
  },
  {
   "cell_type": "markdown",
   "metadata": {
    "papermill": {
     "duration": 0.032818,
     "end_time": "2020-08-30T10:56:12.100478",
     "exception": false,
     "start_time": "2020-08-30T10:56:12.067660",
     "status": "completed"
    },
    "tags": []
   },
   "source": [
    "# Step 5: Deciding Best Fit Model\n",
    "\n",
    "<b> \n",
    "    \n",
    "    1)  Logistic Regression    : 83.78 %  \n",
    "    \n",
    "    2)  Decision Tree - Entropy: 82.70 %\n",
    "    \n",
    "    3)  Decision Tree - Gini   : 82.70 %    \n",
    "    \n",
    "    4)  AdaBoost - Entropy     : 81.62 %\n",
    "    \n",
    "    5)  AdaBoost - Gini        : 81.62 %\n",
    "    \n",
    "    6)  Random Forest          : 78.37 %\n",
    "    \n",
    "    7)  KNN                    : 72.43 %\n",
    "    \n",
    "    \n",
    "The best fit model for the given dataset is: <b>LOGISTIC REGRESSION</b>"
   ]
  },
  {
   "cell_type": "markdown",
   "metadata": {
    "papermill": {
     "duration": 0.027825,
     "end_time": "2020-08-30T10:56:12.163092",
     "exception": false,
     "start_time": "2020-08-30T10:56:12.135267",
     "status": "completed"
    },
    "tags": []
   },
   "source": [
    "# STEP 6: Predicting the values of Loan_Status for the data given in    Load_test.csv"
   ]
  },
  {
   "cell_type": "code",
   "execution_count": 53,
   "metadata": {
    "execution": {
     "iopub.execute_input": "2020-08-30T10:56:12.244672Z",
     "iopub.status.busy": "2020-08-30T10:56:12.243586Z",
     "iopub.status.idle": "2020-08-30T10:56:12.249063Z",
     "shell.execute_reply": "2020-08-30T10:56:12.248485Z"
    },
    "papermill": {
     "duration": 0.056859,
     "end_time": "2020-08-30T10:56:12.249185",
     "exception": false,
     "start_time": "2020-08-30T10:56:12.192326",
     "status": "completed"
    },
    "tags": []
   },
   "outputs": [
    {
     "data": {
      "text/html": [
       "<div>\n",
       "<style scoped>\n",
       "    .dataframe tbody tr th:only-of-type {\n",
       "        vertical-align: middle;\n",
       "    }\n",
       "\n",
       "    .dataframe tbody tr th {\n",
       "        vertical-align: top;\n",
       "    }\n",
       "\n",
       "    .dataframe thead th {\n",
       "        text-align: right;\n",
       "    }\n",
       "</style>\n",
       "<table border=\"1\" class=\"dataframe\">\n",
       "  <thead>\n",
       "    <tr style=\"text-align: right;\">\n",
       "      <th></th>\n",
       "      <th>Loan_ID</th>\n",
       "      <th>Gender</th>\n",
       "      <th>Married</th>\n",
       "      <th>Dependents</th>\n",
       "      <th>Education</th>\n",
       "      <th>Self_Employed</th>\n",
       "      <th>ApplicantIncome</th>\n",
       "      <th>CoapplicantIncome</th>\n",
       "      <th>LoanAmount</th>\n",
       "      <th>Loan_Amount_Term</th>\n",
       "      <th>Credit_History</th>\n",
       "      <th>Property_Area</th>\n",
       "      <th>Loan_Status</th>\n",
       "    </tr>\n",
       "  </thead>\n",
       "  <tbody>\n",
       "    <tr>\n",
       "      <th>614</th>\n",
       "      <td>LP001015</td>\n",
       "      <td>Male</td>\n",
       "      <td>Yes</td>\n",
       "      <td>0</td>\n",
       "      <td>Graduate</td>\n",
       "      <td>No</td>\n",
       "      <td>5720</td>\n",
       "      <td>0.0</td>\n",
       "      <td>110.0</td>\n",
       "      <td>360.0</td>\n",
       "      <td>1.0</td>\n",
       "      <td>Urban</td>\n",
       "      <td>NaN</td>\n",
       "    </tr>\n",
       "    <tr>\n",
       "      <th>615</th>\n",
       "      <td>LP001022</td>\n",
       "      <td>Male</td>\n",
       "      <td>Yes</td>\n",
       "      <td>1</td>\n",
       "      <td>Graduate</td>\n",
       "      <td>No</td>\n",
       "      <td>3076</td>\n",
       "      <td>1500.0</td>\n",
       "      <td>126.0</td>\n",
       "      <td>360.0</td>\n",
       "      <td>1.0</td>\n",
       "      <td>Urban</td>\n",
       "      <td>NaN</td>\n",
       "    </tr>\n",
       "    <tr>\n",
       "      <th>616</th>\n",
       "      <td>LP001031</td>\n",
       "      <td>Male</td>\n",
       "      <td>Yes</td>\n",
       "      <td>2</td>\n",
       "      <td>Graduate</td>\n",
       "      <td>No</td>\n",
       "      <td>5000</td>\n",
       "      <td>1800.0</td>\n",
       "      <td>208.0</td>\n",
       "      <td>360.0</td>\n",
       "      <td>1.0</td>\n",
       "      <td>Urban</td>\n",
       "      <td>NaN</td>\n",
       "    </tr>\n",
       "    <tr>\n",
       "      <th>617</th>\n",
       "      <td>LP001035</td>\n",
       "      <td>Male</td>\n",
       "      <td>Yes</td>\n",
       "      <td>2</td>\n",
       "      <td>Graduate</td>\n",
       "      <td>No</td>\n",
       "      <td>2340</td>\n",
       "      <td>2546.0</td>\n",
       "      <td>100.0</td>\n",
       "      <td>360.0</td>\n",
       "      <td>1.0</td>\n",
       "      <td>Urban</td>\n",
       "      <td>NaN</td>\n",
       "    </tr>\n",
       "    <tr>\n",
       "      <th>618</th>\n",
       "      <td>LP001051</td>\n",
       "      <td>Male</td>\n",
       "      <td>No</td>\n",
       "      <td>0</td>\n",
       "      <td>Not Graduate</td>\n",
       "      <td>No</td>\n",
       "      <td>3276</td>\n",
       "      <td>0.0</td>\n",
       "      <td>78.0</td>\n",
       "      <td>360.0</td>\n",
       "      <td>1.0</td>\n",
       "      <td>Urban</td>\n",
       "      <td>NaN</td>\n",
       "    </tr>\n",
       "  </tbody>\n",
       "</table>\n",
       "</div>"
      ],
      "text/plain": [
       "      Loan_ID Gender Married Dependents     Education Self_Employed  \\\n",
       "614  LP001015   Male     Yes          0      Graduate            No   \n",
       "615  LP001022   Male     Yes          1      Graduate            No   \n",
       "616  LP001031   Male     Yes          2      Graduate            No   \n",
       "617  LP001035   Male     Yes          2      Graduate            No   \n",
       "618  LP001051   Male      No          0  Not Graduate            No   \n",
       "\n",
       "     ApplicantIncome  CoapplicantIncome  LoanAmount  Loan_Amount_Term  \\\n",
       "614             5720                0.0       110.0             360.0   \n",
       "615             3076             1500.0       126.0             360.0   \n",
       "616             5000             1800.0       208.0             360.0   \n",
       "617             2340             2546.0       100.0             360.0   \n",
       "618             3276                0.0        78.0             360.0   \n",
       "\n",
       "     Credit_History Property_Area Loan_Status  \n",
       "614             1.0         Urban         NaN  \n",
       "615             1.0         Urban         NaN  \n",
       "616             1.0         Urban         NaN  \n",
       "617             1.0         Urban         NaN  \n",
       "618             1.0         Urban         NaN  "
      ]
     },
     "execution_count": 53,
     "metadata": {},
     "output_type": "execute_result"
    }
   ],
   "source": [
    "test.head()"
   ]
  },
  {
   "cell_type": "markdown",
   "metadata": {
    "papermill": {
     "duration": 0.025168,
     "end_time": "2020-08-30T10:56:12.301164",
     "exception": false,
     "start_time": "2020-08-30T10:56:12.275996",
     "status": "completed"
    },
    "tags": []
   },
   "source": [
    "# Applying the Logistic Regression Model to the test dataset"
   ]
  },
  {
   "cell_type": "code",
   "execution_count": 54,
   "metadata": {
    "execution": {
     "iopub.execute_input": "2020-08-30T10:56:12.367683Z",
     "iopub.status.busy": "2020-08-30T10:56:12.364038Z",
     "iopub.status.idle": "2020-08-30T10:56:12.390406Z",
     "shell.execute_reply": "2020-08-30T10:56:12.391062Z"
    },
    "papermill": {
     "duration": 0.06461,
     "end_time": "2020-08-30T10:56:12.391213",
     "exception": false,
     "start_time": "2020-08-30T10:56:12.326603",
     "status": "completed"
    },
    "tags": []
   },
   "outputs": [
    {
     "data": {
      "text/html": [
       "<div>\n",
       "<style scoped>\n",
       "    .dataframe tbody tr th:only-of-type {\n",
       "        vertical-align: middle;\n",
       "    }\n",
       "\n",
       "    .dataframe tbody tr th {\n",
       "        vertical-align: top;\n",
       "    }\n",
       "\n",
       "    .dataframe thead th {\n",
       "        text-align: right;\n",
       "    }\n",
       "</style>\n",
       "<table border=\"1\" class=\"dataframe\">\n",
       "  <thead>\n",
       "    <tr style=\"text-align: right;\">\n",
       "      <th></th>\n",
       "      <th>ApplicantIncome</th>\n",
       "      <th>CoapplicantIncome</th>\n",
       "      <th>LoanAmount</th>\n",
       "      <th>Loan_Amount_Term</th>\n",
       "      <th>Credit_History</th>\n",
       "      <th>Gender_Male</th>\n",
       "      <th>Married_Yes</th>\n",
       "      <th>Dependents_1</th>\n",
       "      <th>Dependents_2</th>\n",
       "      <th>Dependents_3+</th>\n",
       "      <th>Education_Not Graduate</th>\n",
       "      <th>Self_Employed_Yes</th>\n",
       "      <th>Property_Area_Semiurban</th>\n",
       "      <th>Property_Area_Urban</th>\n",
       "    </tr>\n",
       "  </thead>\n",
       "  <tbody>\n",
       "    <tr>\n",
       "      <th>614</th>\n",
       "      <td>5720</td>\n",
       "      <td>0.0</td>\n",
       "      <td>110.0</td>\n",
       "      <td>360.0</td>\n",
       "      <td>1.0</td>\n",
       "      <td>1</td>\n",
       "      <td>1</td>\n",
       "      <td>0</td>\n",
       "      <td>0</td>\n",
       "      <td>0</td>\n",
       "      <td>0</td>\n",
       "      <td>0</td>\n",
       "      <td>0</td>\n",
       "      <td>1</td>\n",
       "    </tr>\n",
       "    <tr>\n",
       "      <th>615</th>\n",
       "      <td>3076</td>\n",
       "      <td>1500.0</td>\n",
       "      <td>126.0</td>\n",
       "      <td>360.0</td>\n",
       "      <td>1.0</td>\n",
       "      <td>1</td>\n",
       "      <td>1</td>\n",
       "      <td>1</td>\n",
       "      <td>0</td>\n",
       "      <td>0</td>\n",
       "      <td>0</td>\n",
       "      <td>0</td>\n",
       "      <td>0</td>\n",
       "      <td>1</td>\n",
       "    </tr>\n",
       "    <tr>\n",
       "      <th>616</th>\n",
       "      <td>5000</td>\n",
       "      <td>1800.0</td>\n",
       "      <td>208.0</td>\n",
       "      <td>360.0</td>\n",
       "      <td>1.0</td>\n",
       "      <td>1</td>\n",
       "      <td>1</td>\n",
       "      <td>0</td>\n",
       "      <td>1</td>\n",
       "      <td>0</td>\n",
       "      <td>0</td>\n",
       "      <td>0</td>\n",
       "      <td>0</td>\n",
       "      <td>1</td>\n",
       "    </tr>\n",
       "    <tr>\n",
       "      <th>617</th>\n",
       "      <td>2340</td>\n",
       "      <td>2546.0</td>\n",
       "      <td>100.0</td>\n",
       "      <td>360.0</td>\n",
       "      <td>1.0</td>\n",
       "      <td>1</td>\n",
       "      <td>1</td>\n",
       "      <td>0</td>\n",
       "      <td>1</td>\n",
       "      <td>0</td>\n",
       "      <td>0</td>\n",
       "      <td>0</td>\n",
       "      <td>0</td>\n",
       "      <td>1</td>\n",
       "    </tr>\n",
       "    <tr>\n",
       "      <th>618</th>\n",
       "      <td>3276</td>\n",
       "      <td>0.0</td>\n",
       "      <td>78.0</td>\n",
       "      <td>360.0</td>\n",
       "      <td>1.0</td>\n",
       "      <td>1</td>\n",
       "      <td>0</td>\n",
       "      <td>0</td>\n",
       "      <td>0</td>\n",
       "      <td>0</td>\n",
       "      <td>1</td>\n",
       "      <td>0</td>\n",
       "      <td>0</td>\n",
       "      <td>1</td>\n",
       "    </tr>\n",
       "  </tbody>\n",
       "</table>\n",
       "</div>"
      ],
      "text/plain": [
       "     ApplicantIncome  CoapplicantIncome  LoanAmount  Loan_Amount_Term  \\\n",
       "614             5720                0.0       110.0             360.0   \n",
       "615             3076             1500.0       126.0             360.0   \n",
       "616             5000             1800.0       208.0             360.0   \n",
       "617             2340             2546.0       100.0             360.0   \n",
       "618             3276                0.0        78.0             360.0   \n",
       "\n",
       "     Credit_History  Gender_Male  Married_Yes  Dependents_1  Dependents_2  \\\n",
       "614             1.0            1            1             0             0   \n",
       "615             1.0            1            1             1             0   \n",
       "616             1.0            1            1             0             1   \n",
       "617             1.0            1            1             0             1   \n",
       "618             1.0            1            0             0             0   \n",
       "\n",
       "     Dependents_3+  Education_Not Graduate  Self_Employed_Yes  \\\n",
       "614              0                       0                  0   \n",
       "615              0                       0                  0   \n",
       "616              0                       0                  0   \n",
       "617              0                       0                  0   \n",
       "618              0                       1                  0   \n",
       "\n",
       "     Property_Area_Semiurban  Property_Area_Urban  \n",
       "614                        0                    1  \n",
       "615                        0                    1  \n",
       "616                        0                    1  \n",
       "617                        0                    1  \n",
       "618                        0                    1  "
      ]
     },
     "execution_count": 54,
     "metadata": {},
     "output_type": "execute_result"
    }
   ],
   "source": [
    "Xt = test.drop([\"Loan_Status\",\"Loan_ID\"],axis=1)\n",
    "Xt = pd.get_dummies(Xt,drop_first=True)\n",
    "\n",
    "Xt.head()"
   ]
  },
  {
   "cell_type": "code",
   "execution_count": 55,
   "metadata": {
    "execution": {
     "iopub.execute_input": "2020-08-30T10:56:12.455317Z",
     "iopub.status.busy": "2020-08-30T10:56:12.454591Z",
     "iopub.status.idle": "2020-08-30T10:56:12.458111Z",
     "shell.execute_reply": "2020-08-30T10:56:12.457515Z"
    },
    "papermill": {
     "duration": 0.040057,
     "end_time": "2020-08-30T10:56:12.458261",
     "exception": false,
     "start_time": "2020-08-30T10:56:12.418204",
     "status": "completed"
    },
    "tags": []
   },
   "outputs": [],
   "source": [
    "test_pred = logistic_Regression.predict(Xt)"
   ]
  },
  {
   "cell_type": "code",
   "execution_count": 56,
   "metadata": {
    "execution": {
     "iopub.execute_input": "2020-08-30T10:56:12.517437Z",
     "iopub.status.busy": "2020-08-30T10:56:12.516473Z",
     "iopub.status.idle": "2020-08-30T10:56:12.520082Z",
     "shell.execute_reply": "2020-08-30T10:56:12.521089Z"
    },
    "papermill": {
     "duration": 0.03686,
     "end_time": "2020-08-30T10:56:12.521365",
     "exception": false,
     "start_time": "2020-08-30T10:56:12.484505",
     "status": "completed"
    },
    "tags": []
   },
   "outputs": [
    {
     "name": "stderr",
     "output_type": "stream",
     "text": [
      "<ipython-input-56-5461241fe85f>:1: SettingWithCopyWarning: \n",
      "A value is trying to be set on a copy of a slice from a DataFrame.\n",
      "Try using .loc[row_indexer,col_indexer] = value instead\n",
      "\n",
      "See the caveats in the documentation: https://pandas.pydata.org/pandas-docs/stable/user_guide/indexing.html#returning-a-view-versus-a-copy\n",
      "  test[\"Loan_Status\"] = test_pred\n"
     ]
    }
   ],
   "source": [
    "test[\"Loan_Status\"] = test_pred"
   ]
  },
  {
   "cell_type": "code",
   "execution_count": 57,
   "metadata": {
    "execution": {
     "iopub.execute_input": "2020-08-30T10:56:12.582356Z",
     "iopub.status.busy": "2020-08-30T10:56:12.581673Z",
     "iopub.status.idle": "2020-08-30T10:56:12.601389Z",
     "shell.execute_reply": "2020-08-30T10:56:12.601944Z"
    },
    "papermill": {
     "duration": 0.050012,
     "end_time": "2020-08-30T10:56:12.602085",
     "exception": false,
     "start_time": "2020-08-30T10:56:12.552073",
     "status": "completed"
    },
    "scrolled": true,
    "tags": []
   },
   "outputs": [
    {
     "data": {
      "text/html": [
       "<div>\n",
       "<style scoped>\n",
       "    .dataframe tbody tr th:only-of-type {\n",
       "        vertical-align: middle;\n",
       "    }\n",
       "\n",
       "    .dataframe tbody tr th {\n",
       "        vertical-align: top;\n",
       "    }\n",
       "\n",
       "    .dataframe thead th {\n",
       "        text-align: right;\n",
       "    }\n",
       "</style>\n",
       "<table border=\"1\" class=\"dataframe\">\n",
       "  <thead>\n",
       "    <tr style=\"text-align: right;\">\n",
       "      <th></th>\n",
       "      <th>Loan_ID</th>\n",
       "      <th>Gender</th>\n",
       "      <th>Married</th>\n",
       "      <th>Dependents</th>\n",
       "      <th>Education</th>\n",
       "      <th>Self_Employed</th>\n",
       "      <th>ApplicantIncome</th>\n",
       "      <th>CoapplicantIncome</th>\n",
       "      <th>LoanAmount</th>\n",
       "      <th>Loan_Amount_Term</th>\n",
       "      <th>Credit_History</th>\n",
       "      <th>Property_Area</th>\n",
       "      <th>Loan_Status</th>\n",
       "    </tr>\n",
       "  </thead>\n",
       "  <tbody>\n",
       "    <tr>\n",
       "      <th>614</th>\n",
       "      <td>LP001015</td>\n",
       "      <td>Male</td>\n",
       "      <td>Yes</td>\n",
       "      <td>0</td>\n",
       "      <td>Graduate</td>\n",
       "      <td>No</td>\n",
       "      <td>5720</td>\n",
       "      <td>0.0</td>\n",
       "      <td>110.0</td>\n",
       "      <td>360.0</td>\n",
       "      <td>1.0</td>\n",
       "      <td>Urban</td>\n",
       "      <td>Y</td>\n",
       "    </tr>\n",
       "    <tr>\n",
       "      <th>615</th>\n",
       "      <td>LP001022</td>\n",
       "      <td>Male</td>\n",
       "      <td>Yes</td>\n",
       "      <td>1</td>\n",
       "      <td>Graduate</td>\n",
       "      <td>No</td>\n",
       "      <td>3076</td>\n",
       "      <td>1500.0</td>\n",
       "      <td>126.0</td>\n",
       "      <td>360.0</td>\n",
       "      <td>1.0</td>\n",
       "      <td>Urban</td>\n",
       "      <td>Y</td>\n",
       "    </tr>\n",
       "    <tr>\n",
       "      <th>616</th>\n",
       "      <td>LP001031</td>\n",
       "      <td>Male</td>\n",
       "      <td>Yes</td>\n",
       "      <td>2</td>\n",
       "      <td>Graduate</td>\n",
       "      <td>No</td>\n",
       "      <td>5000</td>\n",
       "      <td>1800.0</td>\n",
       "      <td>208.0</td>\n",
       "      <td>360.0</td>\n",
       "      <td>1.0</td>\n",
       "      <td>Urban</td>\n",
       "      <td>Y</td>\n",
       "    </tr>\n",
       "    <tr>\n",
       "      <th>617</th>\n",
       "      <td>LP001035</td>\n",
       "      <td>Male</td>\n",
       "      <td>Yes</td>\n",
       "      <td>2</td>\n",
       "      <td>Graduate</td>\n",
       "      <td>No</td>\n",
       "      <td>2340</td>\n",
       "      <td>2546.0</td>\n",
       "      <td>100.0</td>\n",
       "      <td>360.0</td>\n",
       "      <td>1.0</td>\n",
       "      <td>Urban</td>\n",
       "      <td>Y</td>\n",
       "    </tr>\n",
       "    <tr>\n",
       "      <th>618</th>\n",
       "      <td>LP001051</td>\n",
       "      <td>Male</td>\n",
       "      <td>No</td>\n",
       "      <td>0</td>\n",
       "      <td>Not Graduate</td>\n",
       "      <td>No</td>\n",
       "      <td>3276</td>\n",
       "      <td>0.0</td>\n",
       "      <td>78.0</td>\n",
       "      <td>360.0</td>\n",
       "      <td>1.0</td>\n",
       "      <td>Urban</td>\n",
       "      <td>Y</td>\n",
       "    </tr>\n",
       "  </tbody>\n",
       "</table>\n",
       "</div>"
      ],
      "text/plain": [
       "      Loan_ID Gender Married Dependents     Education Self_Employed  \\\n",
       "614  LP001015   Male     Yes          0      Graduate            No   \n",
       "615  LP001022   Male     Yes          1      Graduate            No   \n",
       "616  LP001031   Male     Yes          2      Graduate            No   \n",
       "617  LP001035   Male     Yes          2      Graduate            No   \n",
       "618  LP001051   Male      No          0  Not Graduate            No   \n",
       "\n",
       "     ApplicantIncome  CoapplicantIncome  LoanAmount  Loan_Amount_Term  \\\n",
       "614             5720                0.0       110.0             360.0   \n",
       "615             3076             1500.0       126.0             360.0   \n",
       "616             5000             1800.0       208.0             360.0   \n",
       "617             2340             2546.0       100.0             360.0   \n",
       "618             3276                0.0        78.0             360.0   \n",
       "\n",
       "     Credit_History Property_Area Loan_Status  \n",
       "614             1.0         Urban           Y  \n",
       "615             1.0         Urban           Y  \n",
       "616             1.0         Urban           Y  \n",
       "617             1.0         Urban           Y  \n",
       "618             1.0         Urban           Y  "
      ]
     },
     "execution_count": 57,
     "metadata": {},
     "output_type": "execute_result"
    }
   ],
   "source": [
    "test.head()"
   ]
  },
  {
   "cell_type": "code",
   "execution_count": 58,
   "metadata": {
    "execution": {
     "iopub.execute_input": "2020-08-30T10:56:12.660432Z",
     "iopub.status.busy": "2020-08-30T10:56:12.659389Z",
     "iopub.status.idle": "2020-08-30T10:56:12.665411Z",
     "shell.execute_reply": "2020-08-30T10:56:12.666007Z"
    },
    "papermill": {
     "duration": 0.037061,
     "end_time": "2020-08-30T10:56:12.666152",
     "exception": false,
     "start_time": "2020-08-30T10:56:12.629091",
     "status": "completed"
    },
    "tags": []
   },
   "outputs": [],
   "source": [
    "submission = test[[\"Loan_ID\",\"Loan_Status\"]].copy()"
   ]
  },
  {
   "cell_type": "code",
   "execution_count": 60,
   "metadata": {
    "execution": {
     "iopub.execute_input": "2020-08-30T10:56:12.725434Z",
     "iopub.status.busy": "2020-08-30T10:56:12.724304Z",
     "iopub.status.idle": "2020-08-30T10:56:13.011407Z",
     "shell.execute_reply": "2020-08-30T10:56:13.010837Z"
    },
    "papermill": {
     "duration": 0.31755,
     "end_time": "2020-08-30T10:56:13.011537",
     "exception": false,
     "start_time": "2020-08-30T10:56:12.693987",
     "status": "completed"
    },
    "tags": []
   },
   "outputs": [],
   "source": [
    "submission.to_csv('testLR.csv')"
   ]
  },
  {
   "cell_type": "code",
   "execution_count": null,
   "metadata": {},
   "outputs": [],
   "source": []
  },
  {
   "cell_type": "code",
   "execution_count": null,
   "metadata": {},
   "outputs": [],
   "source": []
  },
  {
   "cell_type": "code",
   "execution_count": null,
   "metadata": {},
   "outputs": [],
   "source": []
  },
  {
   "cell_type": "code",
   "execution_count": null,
   "metadata": {},
   "outputs": [],
   "source": []
  }
 ],
 "metadata": {
  "kernelspec": {
   "display_name": "Python 3",
   "language": "python",
   "name": "python3"
  },
  "language_info": {
   "codemirror_mode": {
    "name": "ipython",
    "version": 3
   },
   "file_extension": ".py",
   "mimetype": "text/x-python",
   "name": "python",
   "nbconvert_exporter": "python",
   "pygments_lexer": "ipython3",
   "version": "3.8.5"
  },
  "papermill": {
   "duration": 18.561972,
   "end_time": "2020-08-30T10:56:13.147035",
   "environment_variables": {},
   "exception": null,
   "input_path": "__notebook__.ipynb",
   "output_path": "__notebook__.ipynb",
   "parameters": {},
   "start_time": "2020-08-30T10:55:54.585063",
   "version": "2.1.0"
  }
 },
 "nbformat": 4,
 "nbformat_minor": 4
}
